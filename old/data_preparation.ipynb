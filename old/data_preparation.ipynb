{
 "cells": [
  {
   "cell_type": "markdown",
   "metadata": {},
   "source": [
    "# Data Preparation"
   ]
  },
  {
   "cell_type": "markdown",
   "metadata": {},
   "source": [
    "In this notebook we will prepare the Instacart dataset in the following way\n",
    "\n",
    "- remove rare items with less than 10 transactions\n",
    "- Split in training/validation/testing set with following criteria\n",
    "    1. Users who have more than one transaction: their most recent transaction is used for testing\n",
    "    2. Users who have more than two transactions: their second-to-last transaction is used for validation\n",
    "    3. All others are used for training\n",
    "    \n",
    "Training Set: used to learn all embeddings and the recommendation model   \n",
    "Validation Set: used for selecting the hyper parameters   \n",
    "Testing Set: used for reporting the final results   "
   ]
  },
  {
   "cell_type": "code",
   "execution_count": 34,
   "metadata": {},
   "outputs": [],
   "source": [
    "from collections import Counter\n",
    "\n",
    "import numpy as np\n",
    "import pandas as pd\n",
    "\n",
    "pd.options.mode.chained_assignment = None  # default='warn'"
   ]
  },
  {
   "cell_type": "code",
   "execution_count": 35,
   "metadata": {},
   "outputs": [],
   "source": [
    "min_item_transactions = 500\n",
    "min_user_transactions = 0\n",
    "subset_user = 0.1"
   ]
  },
  {
   "cell_type": "code",
   "execution_count": 36,
   "metadata": {},
   "outputs": [
    {
     "name": "stdout",
     "output_type": "stream",
     "text": [
      "Dimensions of concatenated data frame: (33819106, 2) \n",
      "\n"
     ]
    },
    {
     "data": {
      "text/html": [
       "<div>\n",
       "<style scoped>\n",
       "    .dataframe tbody tr th:only-of-type {\n",
       "        vertical-align: middle;\n",
       "    }\n",
       "\n",
       "    .dataframe tbody tr th {\n",
       "        vertical-align: top;\n",
       "    }\n",
       "\n",
       "    .dataframe thead th {\n",
       "        text-align: right;\n",
       "    }\n",
       "</style>\n",
       "<table border=\"1\" class=\"dataframe\">\n",
       "  <thead>\n",
       "    <tr style=\"text-align: right;\">\n",
       "      <th></th>\n",
       "      <th>order_id</th>\n",
       "      <th>product_id</th>\n",
       "    </tr>\n",
       "  </thead>\n",
       "  <tbody>\n",
       "    <tr>\n",
       "      <th>0</th>\n",
       "      <td>1</td>\n",
       "      <td>49302</td>\n",
       "    </tr>\n",
       "    <tr>\n",
       "      <th>1</th>\n",
       "      <td>1</td>\n",
       "      <td>11109</td>\n",
       "    </tr>\n",
       "    <tr>\n",
       "      <th>2</th>\n",
       "      <td>1</td>\n",
       "      <td>10246</td>\n",
       "    </tr>\n",
       "    <tr>\n",
       "      <th>3</th>\n",
       "      <td>1</td>\n",
       "      <td>49683</td>\n",
       "    </tr>\n",
       "    <tr>\n",
       "      <th>4</th>\n",
       "      <td>1</td>\n",
       "      <td>43633</td>\n",
       "    </tr>\n",
       "  </tbody>\n",
       "</table>\n",
       "</div>"
      ],
      "text/plain": [
       "   order_id  product_id\n",
       "0         1       49302\n",
       "1         1       11109\n",
       "2         1       10246\n",
       "3         1       49683\n",
       "4         1       43633"
      ]
     },
     "execution_count": 36,
     "metadata": {},
     "output_type": "execute_result"
    }
   ],
   "source": [
    "order_products_train_df = pd.read_csv(\"data/order_products__train.csv\")\n",
    "order_products_prior_df = pd.read_csv(\"data/order_products__prior.csv\")\n",
    "order_products_df = pd.concat([order_products_train_df, order_products_prior_df])[['order_id', 'product_id']]\n",
    "print(f\"Dimensions of concatenated data frame: {order_products_df.shape} \\n\")\n",
    "order_products_df.head()"
   ]
  },
  {
   "cell_type": "code",
   "execution_count": 37,
   "metadata": {},
   "outputs": [
    {
     "data": {
      "text/html": [
       "<div>\n",
       "<style scoped>\n",
       "    .dataframe tbody tr th:only-of-type {\n",
       "        vertical-align: middle;\n",
       "    }\n",
       "\n",
       "    .dataframe tbody tr th {\n",
       "        vertical-align: top;\n",
       "    }\n",
       "\n",
       "    .dataframe thead th {\n",
       "        text-align: right;\n",
       "    }\n",
       "</style>\n",
       "<table border=\"1\" class=\"dataframe\">\n",
       "  <thead>\n",
       "    <tr style=\"text-align: right;\">\n",
       "      <th></th>\n",
       "      <th>order_id</th>\n",
       "      <th>user_id</th>\n",
       "      <th>order_number</th>\n",
       "      <th>eval_set</th>\n",
       "      <th>count</th>\n",
       "      <th>select</th>\n",
       "    </tr>\n",
       "  </thead>\n",
       "  <tbody>\n",
       "    <tr>\n",
       "      <th>0</th>\n",
       "      <td>1737705</td>\n",
       "      <td>17</td>\n",
       "      <td>1</td>\n",
       "      <td>prior</td>\n",
       "      <td>41</td>\n",
       "      <td>True</td>\n",
       "    </tr>\n",
       "    <tr>\n",
       "      <th>1</th>\n",
       "      <td>1681401</td>\n",
       "      <td>17</td>\n",
       "      <td>2</td>\n",
       "      <td>prior</td>\n",
       "      <td>41</td>\n",
       "      <td>True</td>\n",
       "    </tr>\n",
       "    <tr>\n",
       "      <th>2</th>\n",
       "      <td>2680214</td>\n",
       "      <td>17</td>\n",
       "      <td>3</td>\n",
       "      <td>prior</td>\n",
       "      <td>41</td>\n",
       "      <td>True</td>\n",
       "    </tr>\n",
       "    <tr>\n",
       "      <th>3</th>\n",
       "      <td>3197376</td>\n",
       "      <td>17</td>\n",
       "      <td>4</td>\n",
       "      <td>prior</td>\n",
       "      <td>41</td>\n",
       "      <td>True</td>\n",
       "    </tr>\n",
       "    <tr>\n",
       "      <th>4</th>\n",
       "      <td>3237467</td>\n",
       "      <td>17</td>\n",
       "      <td>5</td>\n",
       "      <td>prior</td>\n",
       "      <td>41</td>\n",
       "      <td>True</td>\n",
       "    </tr>\n",
       "  </tbody>\n",
       "</table>\n",
       "</div>"
      ],
      "text/plain": [
       "   order_id  user_id  order_number eval_set  count  select\n",
       "0   1737705       17             1    prior     41    True\n",
       "1   1681401       17             2    prior     41    True\n",
       "2   2680214       17             3    prior     41    True\n",
       "3   3197376       17             4    prior     41    True\n",
       "4   3237467       17             5    prior     41    True"
      ]
     },
     "execution_count": 37,
     "metadata": {},
     "output_type": "execute_result"
    }
   ],
   "source": [
    "orders_df = pd.read_csv(\"data/orders.csv\")[['order_id', 'user_id', 'order_number', 'eval_set']]\n",
    "# remove the orders belonging to the test set, as we don't have those transactions\n",
    "orders_df = orders_df[orders_df.eval_set != \"test\"]\n",
    "# Get the number of times a user has ordered (filtering users with less than min_user_transactions)\n",
    "tmp = orders_df['user_id'].value_counts()\n",
    "user_count = tmp.reset_index()\n",
    "user_count.columns = ['user_id', 'count']\n",
    "# Select a random subset of users if subset_user is specified (for rapid prototyping)\n",
    "user_count['select'] = (np.random.rand(user_count.shape[0]) < subset_user)\n",
    "orders_df = pd.merge(orders_df, user_count.loc[(user_count['select']) & (user_count['count']>=min_user_transactions)], on = 'user_id')\n",
    "orders_df.head()"
   ]
  },
  {
   "cell_type": "code",
   "execution_count": 38,
   "metadata": {},
   "outputs": [
    {
     "data": {
      "text/html": [
       "<div>\n",
       "<style scoped>\n",
       "    .dataframe tbody tr th:only-of-type {\n",
       "        vertical-align: middle;\n",
       "    }\n",
       "\n",
       "    .dataframe tbody tr th {\n",
       "        vertical-align: top;\n",
       "    }\n",
       "\n",
       "    .dataframe thead th {\n",
       "        text-align: right;\n",
       "    }\n",
       "</style>\n",
       "<table border=\"1\" class=\"dataframe\">\n",
       "  <thead>\n",
       "    <tr style=\"text-align: right;\">\n",
       "      <th></th>\n",
       "      <th>product_id</th>\n",
       "      <th>product_name</th>\n",
       "      <th>aisle_id</th>\n",
       "      <th>department_id</th>\n",
       "      <th>department</th>\n",
       "      <th>aisle</th>\n",
       "    </tr>\n",
       "  </thead>\n",
       "  <tbody>\n",
       "    <tr>\n",
       "      <th>0</th>\n",
       "      <td>1</td>\n",
       "      <td>Chocolate Sandwich Cookies</td>\n",
       "      <td>61</td>\n",
       "      <td>19</td>\n",
       "      <td>snacks</td>\n",
       "      <td>cookies cakes</td>\n",
       "    </tr>\n",
       "    <tr>\n",
       "      <th>1</th>\n",
       "      <td>78</td>\n",
       "      <td>Nutter Butter Cookie Bites Go-Pak</td>\n",
       "      <td>61</td>\n",
       "      <td>19</td>\n",
       "      <td>snacks</td>\n",
       "      <td>cookies cakes</td>\n",
       "    </tr>\n",
       "    <tr>\n",
       "      <th>2</th>\n",
       "      <td>102</td>\n",
       "      <td>Danish Butter Cookies</td>\n",
       "      <td>61</td>\n",
       "      <td>19</td>\n",
       "      <td>snacks</td>\n",
       "      <td>cookies cakes</td>\n",
       "    </tr>\n",
       "    <tr>\n",
       "      <th>3</th>\n",
       "      <td>172</td>\n",
       "      <td>Gluten Free All Natural Chocolate Chip Cookies</td>\n",
       "      <td>61</td>\n",
       "      <td>19</td>\n",
       "      <td>snacks</td>\n",
       "      <td>cookies cakes</td>\n",
       "    </tr>\n",
       "    <tr>\n",
       "      <th>4</th>\n",
       "      <td>285</td>\n",
       "      <td>Mini Nilla Wafers Munch Pack</td>\n",
       "      <td>61</td>\n",
       "      <td>19</td>\n",
       "      <td>snacks</td>\n",
       "      <td>cookies cakes</td>\n",
       "    </tr>\n",
       "  </tbody>\n",
       "</table>\n",
       "</div>"
      ],
      "text/plain": [
       "   product_id                                    product_name  aisle_id  \\\n",
       "0           1                      Chocolate Sandwich Cookies        61   \n",
       "1          78               Nutter Butter Cookie Bites Go-Pak        61   \n",
       "2         102                           Danish Butter Cookies        61   \n",
       "3         172  Gluten Free All Natural Chocolate Chip Cookies        61   \n",
       "4         285                    Mini Nilla Wafers Munch Pack        61   \n",
       "\n",
       "   department_id department          aisle  \n",
       "0             19     snacks  cookies cakes  \n",
       "1             19     snacks  cookies cakes  \n",
       "2             19     snacks  cookies cakes  \n",
       "3             19     snacks  cookies cakes  \n",
       "4             19     snacks  cookies cakes  "
      ]
     },
     "execution_count": 38,
     "metadata": {},
     "output_type": "execute_result"
    }
   ],
   "source": [
    "# Load and merge products, departments, aisles\n",
    "products = pd.read_csv(\"data/products.csv\")\n",
    "departments = pd.read_csv(\"data/departments.csv\")\n",
    "products = pd.merge(products, departments, on='department_id')\n",
    "aisles = pd.read_csv(\"data/aisles.csv\")\n",
    "products = pd.merge(products, aisles, on='aisle_id')\n",
    "products.head()"
   ]
  },
  {
   "cell_type": "code",
   "execution_count": 39,
   "metadata": {},
   "outputs": [
    {
     "data": {
      "text/html": [
       "<div>\n",
       "<style scoped>\n",
       "    .dataframe tbody tr th:only-of-type {\n",
       "        vertical-align: middle;\n",
       "    }\n",
       "\n",
       "    .dataframe tbody tr th {\n",
       "        vertical-align: top;\n",
       "    }\n",
       "\n",
       "    .dataframe thead th {\n",
       "        text-align: right;\n",
       "    }\n",
       "</style>\n",
       "<table border=\"1\" class=\"dataframe\">\n",
       "  <thead>\n",
       "    <tr style=\"text-align: right;\">\n",
       "      <th></th>\n",
       "      <th>product_id</th>\n",
       "      <th>product_name</th>\n",
       "      <th>aisle_id</th>\n",
       "      <th>department_id</th>\n",
       "      <th>department</th>\n",
       "      <th>aisle</th>\n",
       "      <th>count</th>\n",
       "    </tr>\n",
       "  </thead>\n",
       "  <tbody>\n",
       "    <tr>\n",
       "      <th>1006</th>\n",
       "      <td>24852</td>\n",
       "      <td>Banana</td>\n",
       "      <td>24</td>\n",
       "      <td>4</td>\n",
       "      <td>produce</td>\n",
       "      <td>fresh fruits</td>\n",
       "      <td>49787</td>\n",
       "    </tr>\n",
       "    <tr>\n",
       "      <th>992</th>\n",
       "      <td>13176</td>\n",
       "      <td>Bag of Organic Bananas</td>\n",
       "      <td>24</td>\n",
       "      <td>4</td>\n",
       "      <td>produce</td>\n",
       "      <td>fresh fruits</td>\n",
       "      <td>40819</td>\n",
       "    </tr>\n",
       "    <tr>\n",
       "      <th>1001</th>\n",
       "      <td>21137</td>\n",
       "      <td>Organic Strawberries</td>\n",
       "      <td>24</td>\n",
       "      <td>4</td>\n",
       "      <td>produce</td>\n",
       "      <td>fresh fruits</td>\n",
       "      <td>28497</td>\n",
       "    </tr>\n",
       "    <tr>\n",
       "      <th>808</th>\n",
       "      <td>21903</td>\n",
       "      <td>Organic Baby Spinach</td>\n",
       "      <td>123</td>\n",
       "      <td>4</td>\n",
       "      <td>produce</td>\n",
       "      <td>packaged vegetables fruits</td>\n",
       "      <td>25794</td>\n",
       "    </tr>\n",
       "    <tr>\n",
       "      <th>1045</th>\n",
       "      <td>47209</td>\n",
       "      <td>Organic Hass Avocado</td>\n",
       "      <td>24</td>\n",
       "      <td>4</td>\n",
       "      <td>produce</td>\n",
       "      <td>fresh fruits</td>\n",
       "      <td>22816</td>\n",
       "    </tr>\n",
       "  </tbody>\n",
       "</table>\n",
       "</div>"
      ],
      "text/plain": [
       "      product_id            product_name  aisle_id  department_id department  \\\n",
       "1006       24852                  Banana        24              4    produce   \n",
       "992        13176  Bag of Organic Bananas        24              4    produce   \n",
       "1001       21137    Organic Strawberries        24              4    produce   \n",
       "808        21903    Organic Baby Spinach       123              4    produce   \n",
       "1045       47209    Organic Hass Avocado        24              4    produce   \n",
       "\n",
       "                           aisle  count  \n",
       "1006                fresh fruits  49787  \n",
       "992                 fresh fruits  40819  \n",
       "1001                fresh fruits  28497  \n",
       "808   packaged vegetables fruits  25794  \n",
       "1045                fresh fruits  22816  "
      ]
     },
     "execution_count": 39,
     "metadata": {},
     "output_type": "execute_result"
    }
   ],
   "source": [
    "order_products_df = pd.merge(order_products_df, orders_df[['order_id']], on='order_id')\n",
    "# Get the number of times a product has been ordered (filtering products with less than min_item_transactions)\n",
    "tmp = order_products_df['product_id'].value_counts()\n",
    "item_count = tmp.reset_index()\n",
    "item_count.columns = ['product_id', 'count']\n",
    "# create array of Item_count: # of times this count appears in dataset and sort by item_count\n",
    "count_i = np.array(list(Counter(item_count[\"count\"].values).items()))\n",
    "count_i = count_i[np.argsort(count_i[:,0]), :]\n",
    "# merge products df with items who have a count >= min_item_transactions\n",
    "item_descr = pd.merge(products, item_count.loc[item_count[\"count\"]>=min_item_transactions], on = 'product_id').sort_values(['count'], ascending=False)    \n",
    "item_descr.head()"
   ]
  },
  {
   "cell_type": "code",
   "execution_count": 40,
   "metadata": {},
   "outputs": [],
   "source": [
    "# merge order_products df with product_ids and \n",
    "order_products_df = pd.merge(order_products_df, item_descr[['product_id']], on = 'product_id')\n",
    "# map product_id to numbers from 0 - len(item_list)\n",
    "item_list = item_descr['product_id'].values\n",
    "item_dict = dict(zip(item_list, np.arange(len(item_list))))"
   ]
  },
  {
   "cell_type": "code",
   "execution_count": 41,
   "metadata": {},
   "outputs": [],
   "source": [
    "# Mapping product id to numbers between 0 - len(item_list)\n",
    "item_descr['product_id'] = item_descr['product_id'].apply(lambda x: item_dict[x])"
   ]
  },
  {
   "cell_type": "code",
   "execution_count": 42,
   "metadata": {},
   "outputs": [],
   "source": [
    "# merge order_products_df with orders_df and \n",
    "orders_df_full = pd.merge(order_products_df, orders_df, on='order_id')\n",
    "# map user_id to numbers from 0 - len(user_list)\n",
    "user_list = np.array(list(set(orders_df_full['user_id'].values)))\n",
    "user_dict = dict(zip(user_list, np.arange(len(user_list))))"
   ]
  },
  {
   "cell_type": "code",
   "execution_count": 43,
   "metadata": {},
   "outputs": [],
   "source": [
    "# apply product mapping using item_dict\n",
    "# turn sequence of products into list of products for each order for each user\n",
    "orders_df_full = orders_df_full.groupby(['eval_set', 'user_id', 'order_number'])['product_id'].apply(lambda x: [item_dict[k] for k in x])\n",
    "orders_df_full = orders_df_full.reset_index()"
   ]
  },
  {
   "cell_type": "code",
   "execution_count": 44,
   "metadata": {},
   "outputs": [],
   "source": [
    "# apply user mapping using user_dict\n",
    "orders_df_full['user_id'] = orders_df_full['user_id'].apply(lambda x : user_dict[x])\n",
    "orders_df_full = orders_df_full.sort_values(['order_number'])"
   ]
  },
  {
   "cell_type": "code",
   "execution_count": 45,
   "metadata": {},
   "outputs": [],
   "source": [
    "# Get the indexes for the test set (last transaction) and validation set (second-to-last) transaction\n",
    "temp_users = orders_df_full.groupby('user_id')\n",
    "test_set_index = []\n",
    "validation_set_index = []\n",
    "for (k, d) in temp_users:\n",
    "    if len(d) > 1:\n",
    "        test_set_index.append(d.index[-1])\n",
    "    if len(d) > 2:\n",
    "        validation_set_index.append(d.index[-2])\n",
    "np.random.seed(0)"
   ]
  },
  {
   "cell_type": "code",
   "execution_count": 46,
   "metadata": {},
   "outputs": [],
   "source": [
    "orders_df_full.loc[:, \"eval_set\"] = \"train\"\n",
    "orders_df_full.loc[validation_set_index, \"eval_set\"] = \"validation\"\n",
    "orders_df_full.loc[test_set_index, \"eval_set\"] = \"test\""
   ]
  },
  {
   "cell_type": "code",
   "execution_count": 47,
   "metadata": {},
   "outputs": [],
   "source": [
    "item_descr.to_csv(\"input_data/small_product_metadata.csv\", index=False)\n",
    "orders_df_full.to_csv(\"input_data/small_full_order_data.csv\", index=False)"
   ]
  },
  {
   "cell_type": "code",
   "execution_count": 48,
   "metadata": {},
   "outputs": [],
   "source": [
    "train_data = orders_df_full[['user_id', 'product_id']].loc[orders_df_full['eval_set'] == 'train']\n",
    "validation_data = orders_df_full[['user_id', 'product_id']].loc[orders_df_full['eval_set'] == 'validation']\n",
    "test_data = orders_df_full[['user_id', 'product_id']].loc[orders_df_full['eval_set'] == 'test']"
   ]
  },
  {
   "cell_type": "code",
   "execution_count": 49,
   "metadata": {},
   "outputs": [
    {
     "name": "stdout",
     "output_type": "stream",
     "text": [
      "Average Basket Size (train): 6.239985339531373\n",
      "Average Basket Size (validation): 6.018576779026217\n",
      "Average Basket Size (test): 6.083129225041638\n"
     ]
    }
   ],
   "source": [
    "print(f'Average Basket Size (train): {np.mean(train_data[\"product_id\"].apply(lambda x: len(x)))}')\n",
    "print(f'Average Basket Size (validation): {np.mean(validation_data[\"product_id\"].apply(lambda x: len(x)))}')\n",
    "print(f'Average Basket Size (test): {np.mean(test_data[\"product_id\"].apply(lambda x: len(x)))}')"
   ]
  },
  {
   "cell_type": "code",
   "execution_count": null,
   "metadata": {},
   "outputs": [],
   "source": []
  }
 ],
 "metadata": {
  "kernelspec": {
   "display_name": "instacart-reco",
   "language": "python",
   "name": "instacart-reco"
  },
  "language_info": {
   "codemirror_mode": {
    "name": "ipython",
    "version": 3
   },
   "file_extension": ".py",
   "mimetype": "text/x-python",
   "name": "python",
   "nbconvert_exporter": "python",
   "pygments_lexer": "ipython3",
   "version": "3.7.6"
  }
 },
 "nbformat": 4,
 "nbformat_minor": 4
}
