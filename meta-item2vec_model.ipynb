{
 "cells": [
  {
   "cell_type": "code",
   "execution_count": 1,
   "metadata": {},
   "outputs": [],
   "source": [
    "%load_ext autoreload\n",
    "%autoreload 2\n",
    "\n",
    "import copy\n",
    "import json\n",
    "# import logging\n",
    "import math\n",
    "import multiprocessing\n",
    "import os\n",
    "import statistics\n",
    "import time\n",
    "\n",
    "import sys\n",
    "sys.path.insert(0, \"/Users/rico.meinl/Desktop/BACHELOR_THESIS/instacart2vec/source\")\n",
    "\n",
    "from gensim.models.word2vec import Word2Vec\n",
    "from gensim.models import KeyedVectors\n",
    "from gensim.matutils import argsort\n",
    "from sklearn.metrics import accuracy_score, f1_score, precision_score, recall_score\n",
    "from sklearn.model_selection import train_test_split\n",
    "from sklearn.neighbors import KNeighborsClassifier\n",
    "from sklearn.preprocessing import LabelEncoder\n",
    "import numpy as np\n",
    "import pandas as pd\n",
    "\n",
    "from source.item2vec_recommender import Item2VecRecommender\n",
    "from source.item2vec_embeddings import Item2VecEmbeddings\n",
    "from source.data_loader import DataLoader\n",
    "\n",
    "### JUST FOR TEST\n",
    "from itertools import permutations\n",
    "from scipy.sparse import dok_matrix, csr_matrix\n",
    "# from baseline_recommender import ItemCoCountRecommender\n",
    "from source.utils import convert_size\n",
    "\n",
    "# logging.basicConfig(\n",
    "#      format=\"%(levelname)s - %(asctime)s: %(message)s\",\n",
    "#      datefmt=\"%H:%M:%S\",\n",
    "#      level=logging.INFO,\n",
    "# )"
   ]
  },
  {
   "cell_type": "markdown",
   "metadata": {},
   "source": [
    "## Load Data"
   ]
  },
  {
   "cell_type": "code",
   "execution_count": 2,
   "metadata": {},
   "outputs": [],
   "source": [
    "small = \"\"\n",
    "# small = \"small_\"\n",
    "algorithm = \"meta-item2vec\""
   ]
  },
  {
   "cell_type": "code",
   "execution_count": 3,
   "metadata": {},
   "outputs": [
    {
     "name": "stdout",
     "output_type": "stream",
     "text": [
      "With Metadata: True\n",
      "With User: False\n",
      "Loading data...\n",
      "Creating file to iterate for meta-item2vec in sentences/meta-item2vec/train.txt\n"
     ]
    }
   ],
   "source": [
    "data_loader = DataLoader(algorithm=algorithm,\n",
    "                         small_data=(small!=\"\"),\n",
    "                         with_meta=True,\n",
    "                         with_user=False,\n",
    "                         use_file_iterator=True)"
   ]
  },
  {
   "cell_type": "code",
   "execution_count": null,
   "metadata": {
    "jupyter": {
     "source_hidden": true
    }
   },
   "outputs": [],
   "source": [
    "data_loader = load_data(small_data=(small!=\"\"))"
   ]
  },
  {
   "cell_type": "code",
   "execution_count": null,
   "metadata": {
    "jupyter": {
     "source_hidden": true
    }
   },
   "outputs": [],
   "source": [
    "train_data = data_loader[\"train\"]\n",
    "validation_data = data_loader[\"validation\"]\n",
    "test_data = data_loader[\"test\"]\n",
    "item_metadata = data_loader[\"metadata\"]"
   ]
  },
  {
   "cell_type": "code",
   "execution_count": null,
   "metadata": {
    "jupyter": {
     "source_hidden": true
    }
   },
   "outputs": [],
   "source": [
    "# # Create product key conversion if not exists\n",
    "product_key_conversion = get_product_key_conversion(item_metadata)\n",
    "print(product_key_to_meta(product_key_conversion, \"1\"))\n",
    "print(product_key_to_name(product_key_conversion, \"1\"))"
   ]
  },
  {
   "cell_type": "markdown",
   "metadata": {},
   "source": [
    "### Adding Product Metadata (only Category for now) to **train** sentences"
   ]
  },
  {
   "cell_type": "code",
   "execution_count": null,
   "metadata": {
    "jupyter": {
     "source_hidden": true
    }
   },
   "outputs": [],
   "source": [
    "def get_category_key_conversion(metadata) -> dict:\n",
    "    category_key_conversion = {}\n",
    "\n",
    "    for index, row in metadata.iterrows():\n",
    "        category_key_conversion.setdefault(str(row[\"department\"]), f'category_{row[\"department_id\"]}')\n",
    "        \n",
    "    return category_key_conversion\n",
    "\n",
    "def category_to_key(category):\n",
    "    assert category_key_conversion\n",
    "    return category_key_conversion.get(category, category)"
   ]
  },
  {
   "cell_type": "code",
   "execution_count": null,
   "metadata": {
    "jupyter": {
     "source_hidden": true
    }
   },
   "outputs": [],
   "source": [
    "# Create category key conversion if not exists\n",
    "category_key_conversion = get_category_key_conversion(item_metadata)\n",
    "print(category_to_key(\"dairy eggs\"))"
   ]
  },
  {
   "cell_type": "code",
   "execution_count": null,
   "metadata": {
    "jupyter": {
     "source_hidden": true
    }
   },
   "outputs": [],
   "source": [
    "def add_product_categories(transaction_data):\n",
    "    for index, transaction in enumerate(transaction_data):\n",
    "        items_with_categories = []\n",
    "\n",
    "        # user id is always first in list, then all the purchased items\n",
    "        items_with_categories.append(transaction[0])\n",
    "\n",
    "        items_without_user = copy.deepcopy(transaction[1:])\n",
    "\n",
    "        # add product categories to the item list\n",
    "        for item in items_without_user:\n",
    "            category_key = category_to_key(data_loader.product_key_conversion.get(item).split(\"\\t\")[1])\n",
    "            items_with_categories.append(item)\n",
    "            items_with_categories.append(category_key)\n",
    "\n",
    "        transaction_data[index] = items_with_categories\n",
    "\n",
    "    return transaction_data"
   ]
  },
  {
   "cell_type": "code",
   "execution_count": null,
   "metadata": {
    "jupyter": {
     "source_hidden": true
    }
   },
   "outputs": [],
   "source": [
    "train = add_product_categories(data_loader.train_data)"
   ]
  },
  {
   "cell_type": "code",
   "execution_count": null,
   "metadata": {
    "jupyter": {
     "source_hidden": true
    }
   },
   "outputs": [],
   "source": [
    "# test_items = train_data[0][1:]\n",
    "\n",
    "def add_product_categories(items):\n",
    "    items_with_categories = []\n",
    "    \n",
    "    # user id is always first in list, then all the purchased items\n",
    "    items_with_categories.append(items[0])\n",
    "    \n",
    "    items_without_user = copy.deepcopy(items[1:])\n",
    "    \n",
    "    # add product categories to the item list\n",
    "    for item in items_without_user:\n",
    "        category_key = category_to_key(data_loader.product_key_conversion.get(item).split(\"\\t\")[1])\n",
    "        items_with_categories.append(item)\n",
    "        items_with_categories.append(category_key)\n",
    "        \n",
    "    return items_with_categories\n",
    "\n",
    "# print(test_items)\n",
    "# print(add_product_categories(test_items))"
   ]
  },
  {
   "cell_type": "code",
   "execution_count": null,
   "metadata": {
    "jupyter": {
     "source_hidden": true
    }
   },
   "outputs": [],
   "source": [
    "def create_sentences(data, stage, is_np_array=False, overwrite=True):\n",
    "    # Build train set\n",
    "    filepath = f\"sentences/{algorithm}/{stage}.txt\"\n",
    "    if overwrite:\n",
    "        print(\n",
    "            f\"Creating sentences for the {stage} stage for item2vec in {filepath}\"\n",
    "        )\n",
    "        with open(filepath, \"w\") as file:\n",
    "            if is_np_array:\n",
    "                for transaction in data:\n",
    "                    # user id is always first in list, then all the purchased items\n",
    "                    user_id = transaction[0]\n",
    "                    # add product categories to the item list\n",
    "                    items = add_product_categories(transaction[1:])\n",
    "                    if len(items) > 0:\n",
    "                        file.write(\" \".join(map(str, items)) + \"\\n\")\n",
    "            else:\n",
    "                for i, row in data.iterrows():\n",
    "                    file.write(' '.join(map(str, row[\"product_id\"])) + \"\\n\")\n",
    "                \n",
    "    return filepath"
   ]
  },
  {
   "cell_type": "code",
   "execution_count": null,
   "metadata": {
    "jupyter": {
     "source_hidden": true
    }
   },
   "outputs": [],
   "source": [
    "class SentenceIterator(object):\n",
    "    def __init__(self, sentences_filepath):\n",
    "        self.sentences_filepath = sentences_filepath\n",
    "                    \n",
    "    def __iter__(self):\n",
    "        assert os.path.exists(self.sentences_filepath)\n",
    "        for line in open(self.sentences_filepath):\n",
    "            yield line.split()"
   ]
  },
  {
   "cell_type": "code",
   "execution_count": null,
   "metadata": {
    "jupyter": {
     "source_hidden": true
    }
   },
   "outputs": [],
   "source": [
    "# train_sentences_path = create_sentences(train_data, \"train\", overwrite=False)\n",
    "train_sentences_path = create_sentences(train_data, f\"{small}train\", is_np_array=True, overwrite=True)\n",
    "train_sentences = SentenceIterator(sentences_filepath=train_sentences_path)"
   ]
  },
  {
   "cell_type": "markdown",
   "metadata": {},
   "source": [
    "## Training Embeddings"
   ]
  },
  {
   "cell_type": "code",
   "execution_count": null,
   "metadata": {
    "jupyter": {
     "source_hidden": true
    }
   },
   "outputs": [],
   "source": [
    "def get_filtered_model_vectors(model, verbose=False):\n",
    "    to_trim = [(index, item_key) for index, item_key in enumerate(model.wv.index2word) if item_key.startswith('category_')]\n",
    "    indices_to_trim, words_to_trim = list(zip(*to_trim))\n",
    "    indices_to_trim = list(indices_to_trim)\n",
    "    words_to_trim = list(words_to_trim)\n",
    "    \n",
    "    if verbose:\n",
    "        print(f\"Removing {len(words_to_trim)} categories from the model: {words_to_trim}\")\n",
    "\n",
    "    for word in words_to_trim:\n",
    "        del model.wv.vocab[word]\n",
    "\n",
    "    embedding_vectors = np.delete(model.wv.vectors, indices_to_trim, axis=0)\n",
    "    context_vectors = np.delete(model.trainables.syn1neg, indices_to_trim, axis=0)\n",
    "\n",
    "    for index in sorted(indices_to_trim, reverse=True):\n",
    "        del(model.wv.index2word[index])\n",
    "        \n",
    "    test_index2word = set(model.wv.index2word)\n",
    "    for word in words_to_trim:\n",
    "        assert word not in model.wv.vocab\n",
    "        assert word not in test_index2word\n",
    "        \n",
    "    return model, embedding_vectors, context_vectors"
   ]
  },
  {
   "cell_type": "code",
   "execution_count": null,
   "metadata": {
    "jupyter": {
     "source_hidden": true
    }
   },
   "outputs": [],
   "source": [
    "def train_model(\n",
    "        train_data,\n",
    "        epochs,\n",
    "        embedding_size,\n",
    "        window_size,\n",
    "        ns_exponent,\n",
    "        number_of_negative_samples,\n",
    "        min_count,\n",
    "        sample,\n",
    "        save=False,\n",
    "    ):\n",
    "\n",
    "        model = Word2Vec(\n",
    "            train_data,\n",
    "            sg=1,\n",
    "            size=embedding_size,\n",
    "            window=window_size,\n",
    "            min_count=min_count,\n",
    "            compute_loss=True,\n",
    "            workers=multiprocessing.cpu_count(),\n",
    "            hs=0,\n",
    "            sample=sample,\n",
    "            negative=number_of_negative_samples,\n",
    "            ns_exponent=ns_exponent,\n",
    "            iter=epochs\n",
    "        )\n",
    "\n",
    "        # getting the training loss value\n",
    "        training_loss = model.get_latest_training_loss()\n",
    "        print(f\"Latest training loss: {training_loss}\")\n",
    "        \n",
    "        model.init_sims(replace=True)\n",
    "\n",
    "        if save:\n",
    "            model.save(f\"models/{algorithm}/embeddings.model\")\n",
    "            print(\"Model Saved\")\n",
    "            \n",
    "        return model"
   ]
  },
  {
   "cell_type": "code",
   "execution_count": 4,
   "metadata": {},
   "outputs": [
    {
     "name": "stdout",
     "output_type": "stream",
     "text": [
      "Loading Word2Vec model...\n",
      "Removing 155 categories from the model: ['category_4', 'category_16', 'aisle_24', 'aisle_83', 'category_19', 'category_7', 'category_1', 'category_13', 'aisle_123', 'aisle_120', 'category_3', 'category_15', 'category_20', 'aisle_21', 'aisle_84', 'category_9', 'aisle_115', 'category_17', 'aisle_107', 'category_14', 'category_12', 'aisle_91', 'aisle_112', 'aisle_31', 'aisle_116', 'aisle_37', 'aisle_3', 'aisle_78', 'aisle_86', 'category_11', 'category_18', 'aisle_96', 'aisle_92', 'aisle_38', 'aisle_16', 'aisle_121', 'aisle_67', 'aisle_77', 'aisle_69', 'aisle_98', 'aisle_17', 'aisle_53', 'aisle_108', 'aisle_117', 'aisle_106', 'aisle_45', 'aisle_81', 'aisle_88', 'aisle_32', 'aisle_59', 'category_6', 'aisle_131', 'aisle_36', 'aisle_93', 'aisle_94', 'aisle_19', 'aisle_54', 'aisle_61', 'aisle_52', 'aisle_72', 'aisle_9', 'aisle_104', 'aisle_26', 'aisle_4', 'aisle_129', 'aisle_128', 'aisle_50', 'aisle_66', 'aisle_23', 'aisle_79', 'aisle_130', 'category_5', 'aisle_63', 'aisle_35', 'aisle_14', 'aisle_49', 'aisle_114', 'aisle_43', 'aisle_110', 'aisle_51', 'aisle_105', 'aisle_57', 'aisle_64', 'aisle_13', 'aisle_42', 'aisle_89', 'category_8', 'aisle_74', 'aisle_75', 'aisle_99', 'aisle_2', 'aisle_30', 'aisle_1', 'aisle_48', 'aisle_34', 'aisle_122', 'aisle_29', 'aisle_95', 'aisle_85', 'aisle_25', 'aisle_20', 'aisle_41', 'aisle_5', 'category_21', 'aisle_100', 'aisle_27', 'aisle_47', 'aisle_111', 'aisle_58', 'aisle_127', 'aisle_71', 'aisle_65', 'aisle_12', 'category_2', 'aisle_6', 'aisle_125', 'aisle_28', 'category_10', 'aisle_8', 'aisle_40', 'aisle_7', 'aisle_22', 'aisle_60', 'aisle_62', 'aisle_39', 'aisle_124', 'aisle_70', 'aisle_11', 'aisle_56', 'aisle_97', 'aisle_46', 'aisle_90', 'aisle_15', 'aisle_101', 'aisle_126', 'aisle_119', 'aisle_133', 'aisle_18', 'aisle_68', 'aisle_87', 'aisle_76', 'aisle_80', 'aisle_73', 'aisle_33', 'aisle_134', 'aisle_103', 'aisle_118', 'aisle_109', 'aisle_55', 'aisle_10', 'aisle_44', 'aisle_102', 'aisle_82', 'aisle_132', 'aisle_113']\n"
     ]
    }
   ],
   "source": [
    "embeddings = Item2VecEmbeddings(algorithm=algorithm,\n",
    "                                product_key_conversion=data_loader.product_key_conversion,\n",
    "                                with_meta=True,\n",
    "                                with_user=False)\n",
    "\n",
    "embeddings.load_model(model_path=f\"models/{algorithm}/embeddings_categories_aisles.model\")\n",
    "\n",
    "# embeddings.train_model(\n",
    "#                     data_loader.train_data_iterator,\n",
    "#                     epochs=15,\n",
    "#                     embedding_size=128,\n",
    "#                     window_size=5, # 100,\n",
    "#                     min_count=10,\n",
    "#                     number_of_negative_samples=7,\n",
    "#                     sample=0.01,\n",
    "#                     ns_exponent=0.5,\n",
    "#                     save=False,\n",
    "#                 )\n",
    "\n",
    "# model = train_model(\n",
    "#                  train_sentences,\n",
    "#                  epochs=1,\n",
    "#                  embedding_size=128,\n",
    "#                  window_size=200, # using 100 * metadata added. In this case I only added category which doubles the items in each sentence\n",
    "#                  min_count=10,\n",
    "#                  number_of_negative_samples=7,\n",
    "#                  sample=0.01,\n",
    "#                  ns_exponent=0.5,\n",
    "#                  save=True\n",
    "#              )\n",
    "\n",
    "# model = Word2Vec.load(f\"models/{algorithm}/embeddings.model\")"
   ]
  },
  {
   "cell_type": "code",
   "execution_count": null,
   "metadata": {
    "jupyter": {
     "source_hidden": true
    }
   },
   "outputs": [],
   "source": [
    "model, embedding_vectors, context_vectors = get_filtered_model_vectors(model)"
   ]
  },
  {
   "cell_type": "code",
   "execution_count": null,
   "metadata": {
    "jupyter": {
     "source_hidden": true
    }
   },
   "outputs": [],
   "source": [
    "# Create a matrix filled with embeddings of all items considered\n",
    "mapping = {item_key: index for index, item_key in enumerate(model.wv.index2word)}\n",
    "mapping_back = {index: item_key for item_key, index in mapping.items()}\n",
    "embedding = [model.wv[key] for key in mapping.keys()]\n",
    "\n",
    "assert len(embedding) == len(mapping) == len(embedding_vectors) == len(context_vectors)\n",
    "\n",
    "# Make sure to only include the product embeddings in the evaluation. Mapping of key to index (using index to filter input and context vectors for model)\n",
    "# embedding = [model.wv[key] for key in model.wv.vocab.keys() if key.startswith('product_')]\n",
    "# context_vectors = [vector for vector in model.trainables.syn1neg]\n",
    "# mapping = {key: i for i, key in enumerate(model.wv.vocab.keys()) if key in product_keys}\n",
    "# mapping_back = {v: k for k, v in mapping.items()}"
   ]
  },
  {
   "cell_type": "code",
   "execution_count": null,
   "metadata": {
    "jupyter": {
     "source_hidden": true
    }
   },
   "outputs": [],
   "source": [
    "y_category_list = []\n",
    "y_aisle_list = []\n",
    "        \n",
    "for key in mapping.keys():\n",
    "    y_category_list.append(product_key_to_meta(product_key_conversion, key).split(\"\\t\")[1])\n",
    "    y_aisle_list.append(product_key_to_meta(product_key_conversion, key).split(\"\\t\")[2])\n",
    "\n",
    "assert len(embedding) == len(y_category_list) == len(y_aisle_list)\n",
    "print(f\"Number of Categories: {len(set(y_category_list))}\")\n",
    "print(f\"Number of Aisles: {len(set(y_aisle_list))}\")"
   ]
  },
  {
   "cell_type": "code",
   "execution_count": null,
   "metadata": {
    "jupyter": {
     "source_hidden": true
    }
   },
   "outputs": [],
   "source": [
    "y_category_list[:5]"
   ]
  },
  {
   "cell_type": "code",
   "execution_count": null,
   "metadata": {
    "jupyter": {
     "source_hidden": true
    }
   },
   "outputs": [],
   "source": [
    "y_aisle_list[:5]"
   ]
  },
  {
   "cell_type": "markdown",
   "metadata": {},
   "source": [
    "## Category and Aisle Prediction"
   ]
  },
  {
   "cell_type": "code",
   "execution_count": null,
   "metadata": {
    "jupyter": {
     "source_hidden": true
    }
   },
   "outputs": [],
   "source": [
    "def predict_labels(classifier, x, y, test_size=0.5):\n",
    "    encoder = LabelEncoder()\n",
    "    y = encoder.fit_transform(y)\n",
    "    x_train, x_test, y_train, y_test = train_test_split(x, y, test_size=test_size, random_state=0)\n",
    "\n",
    "    classifier.fit(x_train, y_train)\n",
    "    y_predictions = classifier.predict(x_test)\n",
    "\n",
    "    # accuracy = round(accuracy_score(y_predictions, y_test), 3)\n",
    "    # precision = round(precision_score(y_predictions, y_test, average=\"weighted\"), 3)\n",
    "    # recall = round(recall_score(y_predictions, y_test, average=\"weighted\"), 3)\n",
    "    f1_micro = round(f1_score(y_predictions, y_test, average=\"micro\"), 4)\n",
    "    f1_macro = round(f1_score(y_predictions, y_test, average=\"macro\"), 4)\n",
    "    f1_weighted = round(f1_score(y_predictions, y_test, average=\"weighted\"), 4)\n",
    "    f1_per_class = f1_score(y_predictions, y_test, average=None)\n",
    "\n",
    "    return f1_micro, f1_macro, f1_weighted, f1_per_class"
   ]
  },
  {
   "cell_type": "code",
   "execution_count": null,
   "metadata": {
    "jupyter": {
     "source_hidden": true
    }
   },
   "outputs": [],
   "source": [
    "k_neighbors = 10\n",
    "k_neighbors_classifier = KNeighborsClassifier(n_neighbors=k_neighbors, n_jobs=-1)"
   ]
  },
  {
   "cell_type": "code",
   "execution_count": null,
   "metadata": {},
   "outputs": [],
   "source": [
    "category_f1, aisle_f1 = embeddings.evaluate_embeddings(k_neighbors=10)\n",
    "\n",
    "# category_f1 = predict_labels(classifier=k_neighbors_classifier, x=embedding, y=y_category_list)\n",
    "# aisle_f1 = predict_labels(classifier=k_neighbors_classifier, x=embedding, y=y_aisle_list)\n",
    "\n",
    "# print(f\"Micro: {category_f1[0]}, Macro: {category_f1[1]}, Weighted: {category_f1[2]}\")\n",
    "# print(f\"Micro: {aisle_f1[0]}, Macro: {aisle_f1[1]}, Weighted: {aisle_f1[2]}\")"
   ]
  },
  {
   "cell_type": "code",
   "execution_count": null,
   "metadata": {
    "jupyter": {
     "source_hidden": true
    }
   },
   "outputs": [],
   "source": [
    "# Small Data\n",
    "# 5 epochs (64 dims)\n",
    "# Micro: 0.5179, Macro: 0.3083, Weighted: 0.567\n",
    "# Micro: 0.3111, Macro: 0.1314, Weighted: 0.367\n",
    "\n",
    "# # 5 epochs (32 dims)\n",
    "# Micro: 0.559, Macro: 0.3312, Weighted: 0.6019\n",
    "# Micro: 0.3231, Macro: 0.1447, Weighted: 0.3697\n",
    "\n",
    "# 5 epochs (128 dims)\n",
    "# Micro: 0.4068, Macro: 0.1842, Weighted: 0.4701\n",
    "# Micro: 0.2479, Macro: 0.1, Weighted: 0.3145\n",
    "\n",
    "# 5 epochs (128 dims) using model.init_sims()\n",
    "# Micro: 0.5846, Macro: 0.3872, Weighted: 0.6137\n",
    "# Micro: 0.3487, Macro: 0.1544, Weighted: 0.3917\n",
    "\n",
    "# 5 epochs (256 dims)\n",
    "# Micro: 0.3316, Macro: 0.1322, Weighted: 0.4191\n",
    "# Micro: 0.2017, Macro: 0.0816, Weighted: 0.265\n",
    "\n",
    "# 15 epochs\n",
    "# Micro: 0.4803, Macro: 0.2815, Weighted: 0.5265\n",
    "# Micro: 0.2974, Macro: 0.1203, Weighted: 0.3548\n",
    "\n",
    "# 25 epochs\n",
    "# Micro: 0.4855, Macro: 0.2555, Weighted: 0.5369\n",
    "# Micro: 0.3043, Macro: 0.1338, Weighted: 0.3557\n",
    "\n",
    "# 100 epochs\n",
    "# Micro: 0.4684, Macro: 0.2413, Weighted: 0.5284\n",
    "# Micro: 0.2923, Macro: 0.1236, Weighted: 0.3459"
   ]
  },
  {
   "cell_type": "markdown",
   "metadata": {},
   "source": [
    "## Meta-Item2Vec Recommender"
   ]
  },
  {
   "cell_type": "code",
   "execution_count": null,
   "metadata": {},
   "outputs": [],
   "source": [
    "# As the additional number of categories is so small, we don't care to filter them in advance, we just filter them during prediction\n",
    "metaitem2vec_recommender = Item2VecRecommender(algorithm=\"meta-item2vec\", \n",
    "                                               item_key_mapping=embeddings.mapping,\n",
    "                                               user_item_frequency=data_loader.user_item_frequency,\n",
    "                                               embedding_vectors=embeddings.embedding_vectors, \n",
    "                                               context_vectors=embeddings.context_vectors)\n",
    "print(metaitem2vec_recommender.context_vectors.shape)\n",
    "print(metaitem2vec_recommender.embedding_vectors.shape)\n",
    "\n",
    "# As the additional number of categories is so small, we don't care to filter them in advance, we just filter them during prediction\n",
    "# metaitem2vec_recommender = Item2VecRecommender(algorithm=\"meta-item2vec\", \n",
    "#                                                item_key_mapping=mapping, \n",
    "#                                                user_item_frequency=user_item_frequency,\n",
    "#                                                embedding_vectors=embedding_vectors, \n",
    "#                                                context_vectors=context_vectors)\n",
    "# print(metaitem2vec_recommender.context_vectors.shape)\n",
    "# print(metaitem2vec_recommender.embedding_vectors.shape)"
   ]
  },
  {
   "cell_type": "markdown",
   "metadata": {},
   "source": [
    "# TEST START"
   ]
  },
  {
   "cell_type": "code",
   "execution_count": null,
   "metadata": {
    "jupyter": {
     "source_hidden": true
    }
   },
   "outputs": [],
   "source": [
    "def predict_items(recommender, user_id, given_items):\n",
    "        candidate_list = []\n",
    "        # map the items word to its index\n",
    "        target_items = [recommender.item_key_mapping[key] if (isinstance(key, str) and key.startswith(\"product\")) else key for key in given_items]\n",
    "        # slice the word vectors array to only keep the relevant items\n",
    "        item_embeddings = recommender.embedding_vectors[target_items]\n",
    "\n",
    "        mean_basket_vector = np.mean(item_embeddings, 0)\n",
    "\n",
    "        # complementary items need to be calculated via dot product not cosine similarity\n",
    "        distances = np.dot(recommender.context_vectors, mean_basket_vector)\n",
    "        # distances = np.dot(recommender.embedding_vectors, mean_basket_vector)\n",
    "\n",
    "        # sorted distances from largest to smallest, sort only when we're not in evaluation to save time\n",
    "        # candidate_indices = np.arange(0, len(distances))\n",
    "\n",
    "        # to get the distance: float(dists[item])\n",
    "        # candidate_list = [(recommender.reverse_item_key_mapping[index], float(distances[index])) for index in candidate_indices]\n",
    "                    \n",
    "        # if self.predict_k < self.n_items do candidate_list[:predict_k]; otherwise its equal to self.n_items and I can apply it to all\n",
    "        #ranked_candidates = {product_id: score for (product_id, score) in candidate_list}\n",
    "\n",
    "        return distances # ranked_candidates"
   ]
  },
  {
   "cell_type": "code",
   "execution_count": null,
   "metadata": {
    "jupyter": {
     "source_hidden": true
    }
   },
   "outputs": [],
   "source": [
    "def evaluate_transaction(recommender, user_id, given_items, test_items, k=20):\n",
    "        # get the predicted items and their scores\n",
    "        item_scores = predict_items(recommender, user_id=user_id, given_items=given_items)\n",
    "        # create a list of item scores\n",
    "        # predicted_item_scores = np.array(list(item_scores.values()))\n",
    "        # create a mapping for items to index in the scores list\n",
    "        # item_indices = {key: index for index, key in enumerate(item_scores.keys())}\n",
    "        \n",
    "        \n",
    "        # separate the target items from the other items\n",
    "        negative_index = np.ones(recommender.n_items)\n",
    "        mask_items = [recommender.item_key_mapping[key] for key in test_items]\n",
    "        negative_index[mask_items] = 0\n",
    "        target_item_scores = item_scores[mask_items]\n",
    "        negative_items = item_scores[negative_index>0]\n",
    "        \n",
    "        # calculate the auc and ndcg\n",
    "        n_negative = len(negative_items)\n",
    "        false_predictions = (target_item_scores.reshape(1, len(target_item_scores)) <= negative_items.reshape(n_negative, 1)).sum(axis=0)\n",
    "        auc = (n_negative - false_predictions) / n_negative\n",
    "        ndcg = 1.0/np.log2(2 + false_predictions)\n",
    "        \n",
    "        # Precision and Recall @ K\n",
    "        top_k_items = argsort(item_scores, topn=k, reverse=True)\n",
    "        recall_at_k = recommender.recall(mask_items, top_k_items, k=k)\n",
    "        precision_at_k = recommender.precision(mask_items, top_k_items, k=k)\n",
    "        \n",
    "        return auc, ndcg, recall_at_k, precision_at_k"
   ]
  },
  {
   "cell_type": "code",
   "execution_count": null,
   "metadata": {
    "jupyter": {
     "source_hidden": true
    }
   },
   "outputs": [],
   "source": [
    "def evaluate(recommender, test_transactions, k=10, within_basket=True):\n",
    "        start_time = time.time()\n",
    "        \n",
    "        # more efficient than interating over numpy array\n",
    "        test_transactions = list(test_transactions)\n",
    "        metrics = []\n",
    "        min_transaction_items = 2\n",
    "        # after removing transactions with less than MIN_TRANSACTION_ITEMS\n",
    "        actual_transaction_length = len(test_transactions)\n",
    "        print(f\"{actual_transaction_length} transactions to evaluate.\")\n",
    "        \n",
    "        for test_transaction in test_transactions:\n",
    "            # user id is always first in list, then all the purchased items\n",
    "            user_id = test_transaction[0]\n",
    "            items = [item for item in test_transaction[1:] if item in recommender.item_key_mapping]\n",
    "            \n",
    "            if within_basket:\n",
    "                if len(items) < min_transaction_items:\n",
    "                    actual_transaction_length -= 1\n",
    "                    continue\n",
    "\n",
    "                half = math.ceil(len(items) / 2)\n",
    "                given_item_ids = items[:half] # given items\n",
    "                hold_out_item_ids = items[half:] # test items\n",
    "            else:\n",
    "                if user_id not in recommender.user_item_frequency or len(items) < min_transaction_items:\n",
    "                    actual_transaction_length -= 1\n",
    "                    continue\n",
    "                given_item_ids = list(recommender.user_item_frequency[user_id].keys())\n",
    "                given_item_ids = [item for item in given_item_ids if item in recommender.item_key_mapping]\n",
    "                hold_out_item_ids = items\n",
    "            \n",
    "            _auc, _ndcg, _recall_at_k, _precision_at_k = evaluate_transaction(recommender, \n",
    "                                                                              user_id=user_id, \n",
    "                                                                              given_items=given_item_ids, \n",
    "                                                                              test_items=hold_out_item_ids,\n",
    "                                                                              k=k)\n",
    "            metrics.append([_auc.mean(), _ndcg.mean(), _recall_at_k, _precision_at_k])\n",
    "\n",
    "        actual_transaction_length = len(metrics)\n",
    "        metrics = np.array(metrics).mean(axis=0)\n",
    "        auc = round(metrics[0], 4)\n",
    "        ndcg = round(metrics[1], 4)\n",
    "        recall_at_k = round(metrics[2], 4)\n",
    "        precision_at_k = round(metrics[3], 4)\n",
    "\n",
    "        print(f\"Evaluated {actual_transaction_length} transactions.\")\n",
    "        print(f\"Took {round((time.time()-start_time)/60., 3)} minutes.\")\n",
    "        \n",
    "        print(f\"AUC:              {auc}\")\n",
    "        print(f\"NDCG:             {ndcg}\")\n",
    "        print(f\"Recall at {k}:     {recall_at_k}\")\n",
    "        print(f\"Precision at {k}:  {precision_at_k}\")\n",
    "\n",
    "        return auc, ndcg, recall_at_k, precision_at_k"
   ]
  },
  {
   "cell_type": "code",
   "execution_count": null,
   "metadata": {
    "jupyter": {
     "source_hidden": true
    }
   },
   "outputs": [],
   "source": [
    "# Validation Set and Test Set\n",
    "val_auc, val_ndcg, val_recall, val_precision = evaluate(metaitem2vec_recommender, \n",
    "                                                        data_loader.validation_data, \n",
    "                                                        k=10, \n",
    "                                                        within_basket=False)"
   ]
  },
  {
   "cell_type": "code",
   "execution_count": null,
   "metadata": {
    "jupyter": {
     "source_hidden": true
    }
   },
   "outputs": [],
   "source": [
    "# Within basket\n",
    "# AUC:              0.7976\n",
    "# NDCG:             0.2048\n",
    "# Recall at 10:     0.1393\n",
    "# Precision at 10:  0.0399\n",
    "\n",
    "# AUC:              0.6903\n",
    "# NDCG:             0.1446\n",
    "# Recall at 10:     0.0422\n",
    "# Precision at 10:  0.0095\n",
    "\n",
    "# Using most similar items rather than most complementary (no difference when using _l2_norm)\n",
    "\n",
    "\n",
    "# Next basket\n",
    "# AUC:              0.8353\n",
    "# NDCG:             0.2166\n",
    "# Recall at 10:     0.1529\n",
    "# Precision at 10:  0.0998\n",
    "\n",
    "# Using most similar items rather than most complementary (no difference when using _l2_norm)\n",
    "# AUC:              0.7941\n",
    "# NDCG:             0.2039\n",
    "# Recall at 10:     0.1282\n",
    "# Precision at 10:  0.0647"
   ]
  },
  {
   "cell_type": "code",
   "execution_count": null,
   "metadata": {
    "jupyter": {
     "source_hidden": true
    }
   },
   "outputs": [],
   "source": [
    "# Normal Run, popping out last item\n",
    "# Hit Rate @ 10 on Validation Set: 0.1372\n",
    "# NDCG @ 10 on Validation Set: 0.0751\n",
    "\n",
    "# Popping out random item (5 runs, mean & stddev)\n",
    "# Hit Rate @ 10 on Validation Set: 0.1810 +/- 0.0023\n",
    "# NDCG @ 10 on Validation Set: 0.1049 +/- 0.0012\n",
    "    \n",
    "###################################################################\n",
    "\n",
    "# 5 epochs\n",
    "# Hit Rate @ 10 on Validation Set: 0.023\n",
    "# NDCG @ 10 on Validation Set:     0.0106\n",
    "\n",
    "# 15 epochs\n",
    "# Hit Rate @ 10 on Validation Set: 0.0232\n",
    "# NDCG @ 10 on Validation Set:     0.0106\n",
    "\n",
    "###################################################################\n",
    "# (from here used recommender.embeddings[key])\n",
    "\n",
    "# 5 epochs \n",
    "# Hit Rate @ 10 on Validation Set: 0.0788\n",
    "# NDCG @ 10 on Validation Set: 0.0389\n",
    "\n",
    "# 5 epochs (switched the two inputs in the np.dot function)\n",
    "# Hit Rate @ 10 on Validation Set: 0.0788\n",
    "# NDCG @ 10 on Validation Set: 0.0389\n",
    "\n",
    "# 5 epochs, 32 dims (if not otherwise specified, other ones are 64)\n",
    "# Hit Rate @ 10 on Validation Set: 0.0745\n",
    "# NDCG @ 10 on Validation Set: 0.0354\n",
    "\n",
    "# 5 epochs, 128 dims\n",
    "# Hit Rate @ 10 on Validation Set: 0.0846\n",
    "# NDCG @ 10 on Validation Set: 0.044\n",
    "\n",
    "# 5 epochs, 128 dims, using init_sims()\n",
    "# Hit Rate @ 10 on Validation Set: 0.0853\n",
    "# NDCG @ 10 on Validation Set: 0.0437\n",
    "\n",
    "# 5 epochs, 256 dims\n",
    "# Hit Rate @ 10 on Validation Set: 0.0894\n",
    "# NDCG @ 10 on Validation Set: 0.0469\n",
    "\n",
    "# 5 epochs (using l2 norm)\n",
    "# Hit Rate @ 10 on Validation Set: 0.0765\n",
    "# NDCG @ 10 on Validation Set: 0.0368\n",
    "\n",
    "# 5 epochs (using l2 norm, switched the two inputs in the np.dot function)\n",
    "# Hit Rate @ 10 on Validation Set: 0.0654\n",
    "# NDCG @ 10 on Validation Set: 0.0332\n",
    "\n",
    "# 15 epochs\n",
    "# Hit Rate @ 10 on Validation Set: 0.0804\n",
    "# NDCG @ 10 on Validation Set: 0.0398\n",
    "\n",
    "# 25 epochs (used recommender.embeddings[key])\n",
    "# Hit Rate @ 10 on Validation Set: 0.0803\n",
    "# NDCG @ 10 on Validation Set: 0.0398\n",
    "\n",
    "# 100 epochs (used recommender.embeddings[key])\n",
    "# Hit Rate @ 10 on Validation Set: 0.0814\n",
    "# NDCG @ 10 on Validation Set: 0.0408\n",
    "\n",
    "# Baseline (Co-Count)\n",
    "# Hit Rate @ 10 on Validation Set: 0.1248\n",
    "# NDCG @ 10 on Validation Set:     0.0651"
   ]
  },
  {
   "cell_type": "markdown",
   "metadata": {},
   "source": [
    "# TEST OVER"
   ]
  },
  {
   "cell_type": "code",
   "execution_count": null,
   "metadata": {},
   "outputs": [],
   "source": [
    "# Validation Set and Test Set\n",
    "# Within Basket Recommendations\n",
    "val_auc, val_ndcg, val_recall, val_precision = metaitem2vec_recommender.evaluate(data_loader.validation_data, \n",
    "                                                                             k=10, \n",
    "                                                                             within_basket=True)\n",
    "\n",
    "# test_auc, test_ndcg, test_recall, test_precision = metaitem2vec_recommender.evaluate(data_loader.test_data, \n",
    "#                                                                                  k=10, \n",
    "#                                                                                  within_basket=True)"
   ]
  },
  {
   "cell_type": "code",
   "execution_count": null,
   "metadata": {},
   "outputs": [],
   "source": [
    "# Next Basket Recommendations\n",
    "val_auc, val_ndcg, val_recall, val_precision = metaitem2vec_recommender.evaluate(data_loader.validation_data, \n",
    "                                                                             k=10, \n",
    "                                                                             within_basket=False)\n",
    "\n",
    "test_auc, test_ndcg, test_recall, test_precision = metaitem2vec_recommender.evaluate(data_loader.test_data, \n",
    "                                                                                 k=10, \n",
    "                                                                                 within_basket=False)"
   ]
  },
  {
   "cell_type": "markdown",
   "metadata": {},
   "source": [
    "## Visualization"
   ]
  },
  {
   "cell_type": "code",
   "execution_count": null,
   "metadata": {
    "jupyter": {
     "source_hidden": true
    }
   },
   "outputs": [],
   "source": [
    "key_aisle_conversion = {\n",
    "    aisle_key: aisle_name for aisle_name, aisle_key in data_loader.aisle_key_conversion.items()\n",
    "}\n",
    "\n",
    "key_category_conversion = {\n",
    "    category_key: category_name for category_name, category_key in data_loader.category_key_conversion.items()\n",
    "}"
   ]
  },
  {
   "cell_type": "code",
   "execution_count": null,
   "metadata": {
    "jupyter": {
     "source_hidden": true
    }
   },
   "outputs": [],
   "source": [
    "key_aisle_conversion[\"aisle_73\"]"
   ]
  },
  {
   "cell_type": "code",
   "execution_count": null,
   "metadata": {
    "jupyter": {
     "source_hidden": true
    }
   },
   "outputs": [],
   "source": [
    "def create_embedding_files_for_visualization(embeddings, product_key_conversion):\n",
    "        \"\"\" Create embedding files for visualization \"\"\"\n",
    "\n",
    "        target_vectors_filepath = f\"visualization/{embeddings.algorithm}_target_vectors.tsv\"\n",
    "        target_metadata_filepath = f\"visualization/{embeddings.algorithm}_target_metadata.tsv\"\n",
    "\n",
    "        out_v = open(target_vectors_filepath, \"w\", encoding=\"utf-8\")\n",
    "        out_m = open(target_metadata_filepath, \"w\", encoding=\"utf-8\")\n",
    "\n",
    "        # Meta File Header\n",
    "        out_m.write(\"ProductName\\tCategory\\tAisle\\n\")\n",
    "\n",
    "        for item_key, index in embeddings.mapping.items():\n",
    "            embedding_vector = embeddings.embedding_vectors[index]\n",
    "            # META Input\n",
    "            out_m.write(embeddings.product_key_to_meta(item_key) + \"\\n\")\n",
    "            out_v.write(\"\\t\".join([str(x) for x in embedding_vector]) + \"\\n\")\n",
    "        \n",
    "        if embeddings.model_metadata_vectors:\n",
    "            for metadata_key, embedding_vector in embeddings.model_metadata_vectors.items():\n",
    "                # META Input\n",
    "                if metadata_key.startswith(\"category_\"):\n",
    "                    out_m.write(f\"{metadata_key}\\t{key_category_conversion[metadata_key]}\\tNone\\n\")\n",
    "                else:\n",
    "                    out_m.write(f\"{metadata_key}\\tNone\\t{key_aisle_conversion[metadata_key]}\\n\")\n",
    "                out_v.write(\"\\t\".join([str(x) for x in embedding_vector]) + \"\\n\")\n",
    "\n",
    "        out_v.close()\n",
    "        out_m.close()"
   ]
  },
  {
   "cell_type": "code",
   "execution_count": null,
   "metadata": {
    "jupyter": {
     "source_hidden": true
    }
   },
   "outputs": [],
   "source": [
    "create_embedding_files_for_visualization(embeddings=embeddings, product_key_conversion=data_loader.product_key_conversion)"
   ]
  },
  {
   "cell_type": "code",
   "execution_count": null,
   "metadata": {},
   "outputs": [],
   "source": [
    "embeddings.create_embedding_files_for_visualization(product_key_conversion=data_loader.product_key_conversion)\n",
    "# create_embedding_files_for_visualization(model=model)"
   ]
  },
  {
   "cell_type": "markdown",
   "metadata": {},
   "source": [
    "### T-SNE"
   ]
  },
  {
   "cell_type": "code",
   "execution_count": null,
   "metadata": {
    "jupyter": {
     "source_hidden": true
    }
   },
   "outputs": [],
   "source": [
    "from sklearn.decomposition import PCA\n",
    "from sklearn.manifold import TSNE\n",
    "import numpy as np  \n",
    "import matplotlib.pyplot as plt\n",
    "import random"
   ]
  },
  {
   "cell_type": "code",
   "execution_count": null,
   "metadata": {
    "jupyter": {
     "source_hidden": true
    }
   },
   "outputs": [],
   "source": [
    "def reduce_dimensions(embeddings):\n",
    "    # initial_num_dimensions = 50\n",
    "    num_dimensions = 2  # final num dimensions (2D, 3D, etc)\n",
    "\n",
    "    vectors = []\n",
    "    labels = []\n",
    "    categories = []\n",
    "    aisles = []\n",
    "    for item_key, index in embeddings.mapping.items():\n",
    "        vectors.append(embeddings.embedding_vectors[index])\n",
    "        labels.append(embeddings.product_key_to_name(item_key))\n",
    "        categories.append(embeddings.product_key_to_meta(item_key).split(\"\\t\")[1])\n",
    "        aisles.append(embeddings.product_key_to_meta(item_key).split(\"\\t\")[2])\n",
    "        \n",
    "    if hasattr(embeddings, 'model_metadata_vectors'):\n",
    "        for metadata_key, embedding_vector in embeddings.model_metadata_vectors.items():\n",
    "            vectors.append(embedding_vector)\n",
    "            labels.append(metadata_key)\n",
    "            if metadata_key.startswith(\"category_\"):\n",
    "                categories.append(key_category_conversion[metadata_key])\n",
    "                aisles.append(\"None\")\n",
    "            else:\n",
    "                categories.append(\"None\")\n",
    "                aisles.append(key_aisle_conversion[metadata_key])\n",
    "            \n",
    "    # convert both lists into numpy vectors for reduction\n",
    "    vectors = np.asarray(vectors)\n",
    "    labels = np.asarray(labels)\n",
    "    categories = np.asarray(categories)\n",
    "    aisles = np.asarray(aisles)\n",
    "    \n",
    "    # Initial Reduction\n",
    "    # print(\"Initial Reduction...\")\n",
    "    # pca = PCA(n_components=initial_num_dimensions)\n",
    "    # vectors_pca = pca.fit_transform(vectors)\n",
    "    \n",
    "    # randomly sample data to run quickly\n",
    "    # rows = np.arange(len(vectors))\n",
    "    # np.random.shuffle(rows)\n",
    "    n_select = len(vectors) # 10000\n",
    "\n",
    "    # reduce dimensionality using t-SNE\n",
    "    print(\"Reduction via T-SNE...\")\n",
    "    tsne = TSNE(n_components=num_dimensions, verbose=1, perplexity=50, n_iter=1000, learning_rate=10, random_state=0, n_jobs=-1)\n",
    "    vectors_tsne = tsne.fit_transform(vectors[:n_select])\n",
    "    \n",
    "    labels = labels[:n_select]\n",
    "    categories = categories[:n_select]\n",
    "    aisles = aisles[:n_select]\n",
    "\n",
    "    x_vals = [v[0] for v in vectors_tsne]\n",
    "    y_vals = [v[1] for v in vectors_tsne]\n",
    "    \n",
    "    return x_vals, y_vals, labels, categories, aisles"
   ]
  },
  {
   "cell_type": "code",
   "execution_count": null,
   "metadata": {
    "jupyter": {
     "source_hidden": true
    }
   },
   "outputs": [],
   "source": [
    "def plot_with_matplotlib(x_vals, y_vals, labels, colors, metadata, annotate_with=None):\n",
    "    random.seed(0)\n",
    "\n",
    "    plt.figure(figsize=(12, 12))\n",
    "    scatter = plt.scatter(x=x_vals, y=y_vals, c=colors, cmap='tab20', s=10)\n",
    "    # plt.legend(handles=scatter.legend_elements()[0], labels=list(metadata))\n",
    "\n",
    "    # Label data points\n",
    "    indices = []\n",
    "    for i, label in enumerate(labels):\n",
    "        if label.startswith(annotate_with):\n",
    "            indices.append(i)\n",
    "    # selected_indices = random.sample(indices, 25)\n",
    "    for i in indices:\n",
    "        plt.annotate(metadata[i], (x_vals[i], y_vals[i]))\n",
    "        \n",
    "    plt.savefig(f'visualization/{algorithm}_scatter_plot.png')"
   ]
  },
  {
   "cell_type": "code",
   "execution_count": null,
   "metadata": {
    "jupyter": {
     "source_hidden": true
    }
   },
   "outputs": [],
   "source": [
    "def visualize_embeddings(embeddings, annotate_with):\n",
    "    encoder = LabelEncoder()\n",
    "    x_vals, y_vals, labels, categories, aisles = reduce_dimensions(embeddings)\n",
    "\n",
    "    category_labels = encoder.fit_transform(categories)\n",
    "    aisle_labels = encoder.fit_transform(aisles)\n",
    "    \n",
    "    plot_with_matplotlib(x_vals=x_vals, \n",
    "                     y_vals=y_vals, \n",
    "                     labels=labels, \n",
    "                     colors=category_labels, \n",
    "                     metadata=categories,\n",
    "                     annotate_with=annotate_with)"
   ]
  },
  {
   "cell_type": "code",
   "execution_count": null,
   "metadata": {
    "jupyter": {
     "source_hidden": true
    }
   },
   "outputs": [],
   "source": [
    "visualize_embeddings(embeddings, annotate_with=\"categories_\")"
   ]
  },
  {
   "cell_type": "code",
   "execution_count": 6,
   "metadata": {},
   "outputs": [
    {
     "name": "stdout",
     "output_type": "stream",
     "text": [
      "Reduction via T-SNE...\n",
      "[t-SNE] Computing 151 nearest neighbors...\n",
      "[t-SNE] Indexed 41543 samples in 1.067s...\n",
      "[t-SNE] Computed neighbors for 41543 samples in 398.834s...\n",
      "[t-SNE] Computed conditional probabilities for sample 1000 / 41543\n",
      "[t-SNE] Computed conditional probabilities for sample 2000 / 41543\n",
      "[t-SNE] Computed conditional probabilities for sample 3000 / 41543\n",
      "[t-SNE] Computed conditional probabilities for sample 4000 / 41543\n",
      "[t-SNE] Computed conditional probabilities for sample 5000 / 41543\n",
      "[t-SNE] Computed conditional probabilities for sample 6000 / 41543\n",
      "[t-SNE] Computed conditional probabilities for sample 7000 / 41543\n",
      "[t-SNE] Computed conditional probabilities for sample 8000 / 41543\n",
      "[t-SNE] Computed conditional probabilities for sample 9000 / 41543\n",
      "[t-SNE] Computed conditional probabilities for sample 10000 / 41543\n",
      "[t-SNE] Computed conditional probabilities for sample 11000 / 41543\n",
      "[t-SNE] Computed conditional probabilities for sample 12000 / 41543\n",
      "[t-SNE] Computed conditional probabilities for sample 13000 / 41543\n",
      "[t-SNE] Computed conditional probabilities for sample 14000 / 41543\n",
      "[t-SNE] Computed conditional probabilities for sample 15000 / 41543\n",
      "[t-SNE] Computed conditional probabilities for sample 16000 / 41543\n",
      "[t-SNE] Computed conditional probabilities for sample 17000 / 41543\n",
      "[t-SNE] Computed conditional probabilities for sample 18000 / 41543\n",
      "[t-SNE] Computed conditional probabilities for sample 19000 / 41543\n",
      "[t-SNE] Computed conditional probabilities for sample 20000 / 41543\n",
      "[t-SNE] Computed conditional probabilities for sample 21000 / 41543\n",
      "[t-SNE] Computed conditional probabilities for sample 22000 / 41543\n",
      "[t-SNE] Computed conditional probabilities for sample 23000 / 41543\n",
      "[t-SNE] Computed conditional probabilities for sample 24000 / 41543\n",
      "[t-SNE] Computed conditional probabilities for sample 25000 / 41543\n",
      "[t-SNE] Computed conditional probabilities for sample 26000 / 41543\n",
      "[t-SNE] Computed conditional probabilities for sample 27000 / 41543\n",
      "[t-SNE] Computed conditional probabilities for sample 28000 / 41543\n",
      "[t-SNE] Computed conditional probabilities for sample 29000 / 41543\n",
      "[t-SNE] Computed conditional probabilities for sample 30000 / 41543\n",
      "[t-SNE] Computed conditional probabilities for sample 31000 / 41543\n",
      "[t-SNE] Computed conditional probabilities for sample 32000 / 41543\n",
      "[t-SNE] Computed conditional probabilities for sample 33000 / 41543\n",
      "[t-SNE] Computed conditional probabilities for sample 34000 / 41543\n",
      "[t-SNE] Computed conditional probabilities for sample 35000 / 41543\n",
      "[t-SNE] Computed conditional probabilities for sample 36000 / 41543\n",
      "[t-SNE] Computed conditional probabilities for sample 37000 / 41543\n",
      "[t-SNE] Computed conditional probabilities for sample 38000 / 41543\n",
      "[t-SNE] Computed conditional probabilities for sample 39000 / 41543\n",
      "[t-SNE] Computed conditional probabilities for sample 40000 / 41543\n",
      "[t-SNE] Computed conditional probabilities for sample 41000 / 41543\n",
      "[t-SNE] Computed conditional probabilities for sample 41543 / 41543\n",
      "[t-SNE] Mean sigma: 0.191880\n",
      "[t-SNE] KL divergence after 250 iterations with early exaggeration: 106.768280\n",
      "[t-SNE] KL divergence after 1000 iterations: 2.682918\n"
     ]
    },
    {
     "data": {
      "image/png": "[encoded data removed]",
      "text/plain": [
       "<Figure size 864x864 with 1 Axes>"
      ]
     },
     "metadata": {
      "needs_background": "light"
     },
     "output_type": "display_data"
    }
   ],
   "source": [
    "embeddings.visualize_embeddings(data_loader=data_loader, annotate_with=\"category_\")"
   ]
  },
  {
   "cell_type": "markdown",
   "metadata": {},
   "source": [
    "# Experiments"
   ]
  },
  {
   "cell_type": "code",
   "execution_count": null,
   "metadata": {},
   "outputs": [],
   "source": [
    "product_to_key = {}\n",
    "key_to_product = {}\n",
    "\n",
    "for item_key, item_name in embeddings.product_key_conversion.items():\n",
    "    product_to_key[item_name.split(\"\\t\")[0]] = item_key\n",
    "    \n",
    "key_to_product = {item_key: item_name for (item_name, item_key) in product_to_key.items()}"
   ]
  },
  {
   "cell_type": "code",
   "execution_count": null,
   "metadata": {},
   "outputs": [],
   "source": [
    "calculation = (embeddings.model.wv[product_to_key[\"Organic Banana\"]] - embeddings.model.wv[product_to_key[\"Banana\"]]) + embeddings.model.wv[product_to_key[\"Fuji Apples\"]] \n",
    "\n",
    "similar_by_vector = embeddings.model.wv.similar_by_vector(calculation, topn=20)\n",
    "\n",
    "[(key_to_product[product_key], similarity) for product_key, similarity in similar_by_vector]"
   ]
  },
  {
   "cell_type": "markdown",
   "metadata": {},
   "source": [
    "# Hyperparameter Search"
   ]
  },
  {
   "cell_type": "code",
   "execution_count": null,
   "metadata": {},
   "outputs": [],
   "source": [
    "# We perform\n",
    "# a hyperparameter search (300k models evaluated) on: the number of\n",
    "# epochs n (10 to 200 with step of +10), the window-size L (3, 7, 12, 15),\n",
    "# the sub-sampling parameter t (Eq. (2)) (10−5\n",
    "# to 10−1 with step of ×10), the negative sampling distribution parameter α (Eq. (3)) (−1.4\n",
    "# to 1.4 with step of +0.2), the embedding size (50 to 200 with a step\n",
    "# of 50), the number of negative samples (5 to 20 with a step of 5) and\n",
    "# the learning rate (0.0025 to 0.25 with a step of ×10). The marginal\n",
    "# benefit of including the 3 latter variables to the optimization is not\n",
    "# significant, with less than 2% in terms of performance. Thus, for\n",
    "# readability, we only focus on the influence of the 4 first hyperparameters and keep the other fixed to default values (respectively\n",
    "# 50, 5 and 0.025)."
   ]
  },
  {
   "cell_type": "code",
   "execution_count": null,
   "metadata": {},
   "outputs": [],
   "source": [
    "# Baseline\n",
    "\n",
    "# Most Popular \n",
    "# Hit Rate @ 10 on Validation Set: 0.0703 +/- 0.0006\n",
    "# Hit Rate @ 10 on Test Set:       0.0709 +/- 0.0004\n",
    "# NDCG @ 10 on Validation Set:     0.0389 +/- 0.0005\n",
    "# NDCG @ 10 on Test Set:           0.039 +/- 0.0002\n",
    "\n",
    "# Most Popular For User\n",
    "# Hit Rate @ 10 on Validation Set: 0.3043 +/- 0.0008\n",
    "# Hit Rate @ 10 on Test Set:       0.2804 +/- 0.0006\n",
    "# NDCG @ 10 on Validation Set:     0.1693 +/- 0.0003\n",
    "# NDCG @ 10 on Test Set:           0.1558 +/- 0.0005\n",
    "\n",
    "# Item Co-Count"
   ]
  },
  {
   "cell_type": "code",
   "execution_count": null,
   "metadata": {},
   "outputs": [],
   "source": [
    "epochs = [1]\n",
    "window_sizes = [100, 200] # using 100 * metadata added. In this case I only added category which doubles the items in each sentence\n",
    "samples = [0.01] # 0.01\n",
    "ns_exponents = [0.5] # 0.5\n",
    "embedding_sizes = [128]\n",
    "numbers_of_negative_samples = [7]\n",
    "\n",
    "k_neighbors = 10\n",
    "k_predictions = 10\n",
    "\n",
    "results = []\n",
    "\n",
    "for epoch in epochs:\n",
    "    for window_size in window_sizes:\n",
    "        for sample in samples:\n",
    "            for ns_exponent in ns_exponents:\n",
    "                for embedding_size in embedding_sizes:\n",
    "                    for number_of_negative_samples in numbers_of_negative_samples:\n",
    "                        start = time.time()\n",
    "                        print(f\"Epoch: {epoch}, Window Size: {window_size}, Sample: {sample}, NS Exponent: {ns_exponent}, Embedding Size: {embedding_size}, Number of Negative Samples: {number_of_negative_samples}\")\n",
    "\n",
    "                        train_sentences = SentenceIterator(sentences_filepath=train_sentences_path)\n",
    "\n",
    "                        # Train the model\n",
    "                        model = train_model(\n",
    "                                            train_sentences,\n",
    "                                            epochs=epoch,\n",
    "                                            embedding_size=embedding_size,\n",
    "                                            window_size=window_size,\n",
    "                                            min_count= 10,\n",
    "                                            number_of_negative_samples=number_of_negative_samples,\n",
    "                                            sample=sample,\n",
    "                                            ns_exponent=ns_exponent,\n",
    "                                            save=False,\n",
    "                                        )\n",
    "                        \n",
    "                        model, embedding_vectors, context_vectors = get_filtered_model_vectors(model)\n",
    "\n",
    "                        mapping = {item_key: index for index, item_key in enumerate(model.wv.index2word)}\n",
    "                        mapping_back = {index: item_key for item_key, index in mapping.items()}\n",
    "                        embedding = [model.wv[key] for key in mapping.keys()]\n",
    "\n",
    "                        assert len(embedding) == len(mapping) == len(embedding_vectors) == len(context_vectors)\n",
    "    \n",
    "                        y_category_list = []\n",
    "                        y_aisle_list = []\n",
    "\n",
    "                        for key in mapping.keys():\n",
    "                            y_category_list.append(product_key_to_meta(key).split(\"\\t\")[1])\n",
    "                            y_aisle_list.append(product_key_to_meta(key).split(\"\\t\")[2])\n",
    "\n",
    "                        assert len(embedding) == len(y_category_list) == len(y_aisle_list)\n",
    "\n",
    "                        # K Neighbors Classifier\n",
    "                        k_neighbors_classifier = KNeighborsClassifier(n_neighbors=k_neighbors, n_jobs=-1)\n",
    "\n",
    "                        category_f1 = predict_labels(classifier=k_neighbors_classifier, x=embedding, y=y_category_list)\n",
    "                        aisle_f1 = predict_labels(classifier=k_neighbors_classifier, x=embedding, y=y_aisle_list)\n",
    "\n",
    "                        print(f\"Category - Micro: {category_f1[0]}, Macro: {category_f1[1]}, Weighted: {category_f1[2]}\")\n",
    "                        print(f\"Aisle    - Micro: {aisle_f1[0]}, Macro: {aisle_f1[1]}, Weighted: {aisle_f1[2]}\")\n",
    "\n",
    "                        # Recommender\n",
    "                        metaitem2vec_recommender = Item2VecRecommender(algorithm=\"meta-item2vec\", \n",
    "                                                                       item_key_mapping=mapping, \n",
    "                                                                       embedding_vectors=embedding_vectors, \n",
    "                                                                       context_vectors=context_vectors)\n",
    "\n",
    "                        validation_auc, validation_ndcg = metaitem2vec_recommender.evaluate(validation_data)\n",
    "                        print(f\"AUC on Validation Set: {validation_auc}\")\n",
    "                        print(f\"NDCG on Validation Set: {validation_ndcg}\")\n",
    "\n",
    "                        # test_auc, test_ndcg = metaitem2vec_recommender.evaluate(test_data)\n",
    "                        # print(f\"AUC on Test Set: {test_auc}\")\n",
    "                        # print(f\"NDCG on Test Set: {test_ndcg}\")\n",
    "\n",
    "                        results.append((epoch, \n",
    "                                        window_size, \n",
    "                                        sample, \n",
    "                                        ns_exponent, \n",
    "                                        embedding_size,\n",
    "                                        number_of_negative_samples,\n",
    "                                        category_f1[0], \n",
    "                                        aisle_f1[0], \n",
    "                                        category_f1[1], \n",
    "                                        aisle_f1[1],\n",
    "                                        category_f1[2], \n",
    "                                        aisle_f1[2],\n",
    "                                        validation_auc, \n",
    "                                        validation_ndcg\n",
    "                                       ))\n",
    "\n",
    "                        with open('parameter_search.txt', 'w') as f:\n",
    "                            for line in results:\n",
    "                                f.write(f\"{str(line)}\\n\")\n",
    "\n",
    "\n",
    "                        end = time.time()\n",
    "                        print(f\"Took {end - start} seconds\\n\")\n",
    "\n",
    "results.sort(key=lambda x: x[12], reverse=True)\n",
    "results"
   ]
  },
  {
   "cell_type": "code",
   "execution_count": null,
   "metadata": {},
   "outputs": [],
   "source": [
    "results.sort(key=lambda x: x[12], reverse=True)"
   ]
  },
  {
   "cell_type": "code",
   "execution_count": null,
   "metadata": {},
   "outputs": [],
   "source": [
    "# Read\n",
    "with open(f'results/{algorithm}_parameter_search.txt', 'r') as f:\n",
    "    results = f.readlines()\n",
    "    results = [eval(p.strip()) for p in results]"
   ]
  },
  {
   "cell_type": "code",
   "execution_count": null,
   "metadata": {},
   "outputs": [],
   "source": [
    "results_df = pd.DataFrame(results, columns=[\n",
    "                                            \"Epoch\", \n",
    "                                            \"Window Size\", \n",
    "                                            \"Sample\",\n",
    "                                            \"NS Exponent\", \n",
    "                                            \"Embedding Size\", \n",
    "                                            \"Number of Negative Samples\",\n",
    "                                            \"F1 Macro Category\",\n",
    "                                            \"F1 Macro Aisle\",\n",
    "                                            \"F1 Micro Category\",\n",
    "                                            \"F1 Micro Aisle\",\n",
    "                                            \"Within-basket AUC\",\n",
    "                                            \"Within-basket NDCG\",\n",
    "                                            \"Within-basket Recall\",\n",
    "                                            \"Within-basket Precision\",\n",
    "                                            \"Next-basket AUC\",\n",
    "                                            \"Next-basket NDCG\",\n",
    "                                            \"Next-basket Recall\",\n",
    "                                            \"Next-basket Precision\"\n",
    "                                          ])\n",
    "results_df.to_csv(f'results/{algorithm}/{small}results.csv', index=False)"
   ]
  },
  {
   "cell_type": "code",
   "execution_count": null,
   "metadata": {},
   "outputs": [],
   "source": [
    "# results_df = pd.read_csv(f'results/{algorithm}/{small}results.csv')\n",
    "# results_df.sort_values(\"Sample\", ascending=False)\n",
    "column = \"Sample\"\n",
    "\n",
    "print(results_df.groupby(column)[[\"Within-basket AUC\", \"Next-basket AUC\", \"Within-basket NDCG\", \"Next-basket NDCG\", \"Within-basket Recall\", \"Next-basket Recall\"]].mean())\n",
    "print(\"\\n#########################\\n\")\n",
    "print(results_df.groupby(column)[[\"Within-basket AUC\", \"Next-basket AUC\", \"Within-basket NDCG\", \"Next-basket NDCG\", \"Within-basket Recall\", \"Next-basket Recall\"]].median())"
   ]
  },
  {
   "cell_type": "code",
   "execution_count": null,
   "metadata": {},
   "outputs": [],
   "source": [
    "correlation = results_df.corr(method='spearman')\n",
    "correlation.style.background_gradient(cmap='coolwarm')"
   ]
  },
  {
   "cell_type": "code",
   "execution_count": null,
   "metadata": {},
   "outputs": [],
   "source": [
    "pd.set_option('display.max_rows', 500)"
   ]
  },
  {
   "cell_type": "code",
   "execution_count": null,
   "metadata": {},
   "outputs": [],
   "source": [
    "results_df[\"Avg. Recall\"] = (results_df[\"Within-basket Recall\"] + results_df[\"Next-basket Recall\"]) /2\n",
    "results_df.sort_values(\"Avg. Recall\", ascending=False)"
   ]
  },
  {
   "cell_type": "code",
   "execution_count": null,
   "metadata": {},
   "outputs": [],
   "source": []
  }
 ],
 "metadata": {
  "kernelspec": {
   "display_name": "instacart2vec",
   "language": "python",
   "name": "instacart2vec"
  },
  "language_info": {
   "codemirror_mode": {
    "name": "ipython",
    "version": 3
   },
   "file_extension": ".py",
   "mimetype": "text/x-python",
   "name": "python",
   "nbconvert_exporter": "python",
   "pygments_lexer": "ipython3",
   "version": "3.7.7"
  }
 },
 "nbformat": 4,
 "nbformat_minor": 4
}
