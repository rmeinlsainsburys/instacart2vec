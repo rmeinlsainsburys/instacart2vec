{
 "cells": [
  {
   "cell_type": "markdown",
   "metadata": {},
   "source": [
    "# Baseline Model"
   ]
  },
  {
   "cell_type": "code",
   "execution_count": 1,
   "metadata": {},
   "outputs": [],
   "source": [
    "%load_ext autoreload\n",
    "%autoreload 2\n",
    "\n",
    "import math\n",
    "import time\n",
    "import statistics\n",
    "\n",
    "import numpy as np\n",
    "import pandas as pd\n",
    "from itertools import permutations\n",
    "from scipy.sparse import dok_matrix, csr_matrix\n",
    "from tqdm import tqdm\n",
    "import multiprocessing\n",
    "\n",
    "from get_data import get_data\n",
    "from baseline_recommender import MostPopularRecommender, MostPopularForUserRecommender, ItemCoCountRecommender\n",
    "from utils import convert_size, load_data, get_product_key_conversion, product_key_to_meta, product_key_to_name"
   ]
  },
  {
   "cell_type": "markdown",
   "metadata": {},
   "source": [
    "## Load Data"
   ]
  },
  {
   "cell_type": "code",
   "execution_count": 24,
   "metadata": {},
   "outputs": [],
   "source": [
    "small = \"\"\n",
    "# small = \"small_\""
   ]
  },
  {
   "cell_type": "code",
   "execution_count": 25,
   "metadata": {},
   "outputs": [],
   "source": [
    "data_loader = load_data(small_data=(small!=\"\"))"
   ]
  },
  {
   "cell_type": "code",
   "execution_count": 26,
   "metadata": {},
   "outputs": [],
   "source": [
    "train_data = data_loader[\"train\"]\n",
    "validation_data = data_loader[\"validation\"]\n",
    "test_data = data_loader[\"test\"]\n",
    "item_metadata = data_loader[\"metadata\"]"
   ]
  },
  {
   "cell_type": "code",
   "execution_count": 27,
   "metadata": {},
   "outputs": [
    {
     "name": "stdout",
     "output_type": "stream",
     "text": [
      "Data for 49641 products.\n"
     ]
    }
   ],
   "source": [
    "# gets the actual number of products in the training set\n",
    "train_data_products = set(item for transaction in list(train_data) for item in transaction if item.startswith(\"product\"))\n",
    "n_items = len(train_data_products)\n",
    "print(f\"Data for {n_items} products.\")"
   ]
  },
  {
   "cell_type": "markdown",
   "metadata": {},
   "source": [
    "## User Item Interactions"
   ]
  },
  {
   "cell_type": "code",
   "execution_count": 48,
   "metadata": {},
   "outputs": [],
   "source": [
    "def generate_user_item_interactions(train_data, n_items, item_key_mapping):\n",
    "    # user_transactions_map = {}\n",
    "    user_item_frequency = {}\n",
    "    item_frequency = np.zeros(n_items)\n",
    "    for index, test_transaction in enumerate(train_data):\n",
    "        # user id is always first in list, then all the purchased items\n",
    "        user_id = test_transaction[0]\n",
    "        items = test_transaction[1:]\n",
    "        # temp_transactions = user_transactions_map.get(user_id, [])\n",
    "        # temp_transactions.append(index)\n",
    "        # user_transactions_map[user_id] = temp_transactions\n",
    "\n",
    "        temp_item_frequency = user_item_frequency.get(user_id, {})\n",
    "        for item in items:\n",
    "            temp_item_frequency[item] = temp_item_frequency.get(item, 0) + 1\n",
    "            item_frequency[item_key_mapping[item]] += 1\n",
    "        user_item_frequency[user_id] = temp_item_frequency        \n",
    "\n",
    "    return user_item_frequency, item_frequency# user_transactions_map, user_item_frequency, item_frequency"
   ]
  },
  {
   "cell_type": "code",
   "execution_count": 49,
   "metadata": {},
   "outputs": [],
   "source": [
    "mapping = {item_key: index for index, item_key in enumerate(train_data_products)}\n",
    "mapping_back = {index: item_key for item_key, index in mapping.items()}"
   ]
  },
  {
   "cell_type": "code",
   "execution_count": 50,
   "metadata": {},
   "outputs": [],
   "source": [
    "user_item_frequency, item_frequency = generate_user_item_interactions(train_data=train_data, \n",
    "                                                                         n_items=n_items, \n",
    "                                                                         item_key_mapping=mapping)"
   ]
  },
  {
   "cell_type": "markdown",
   "metadata": {},
   "source": [
    "# Item Item Interactions"
   ]
  },
  {
   "cell_type": "code",
   "execution_count": 31,
   "metadata": {},
   "outputs": [],
   "source": [
    "def add_item_pairs_to_matrix(data, item_key_mapping):\n",
    "    item_interactions_dict = {}\n",
    "    \n",
    "    for index, test_transaction in enumerate(data):\n",
    "        # user id is always first in list, then all the purchased items\n",
    "        user_id = test_transaction[0]\n",
    "        items = [item_key_mapping[index] for index in test_transaction[1:]]\n",
    "        \n",
    "        for item, paired_item in permutations(set(items), r=2):\n",
    "            if item != paired_item:\n",
    "                key = (item, paired_item)\n",
    "                item_interactions_dict[key] = item_interactions_dict.get(key, 0) + 1\n",
    "            \n",
    "    return item_interactions_dict"
   ]
  },
  {
   "cell_type": "code",
   "execution_count": 32,
   "metadata": {},
   "outputs": [],
   "source": [
    "def generate_item_item_interactions(train_data, item_key_mapping, item_frequency, n_items):\n",
    "    # Create dictionary of item-item pairs and the number of times they appeared together in a basket\n",
    "    item_interactions_dict = add_item_pairs_to_matrix(data=train_data, item_key_mapping=item_key_mapping)\n",
    "    \n",
    "    # divide each item pair (item1, item2) by the total number of appearances of item1\n",
    "    for k in item_interactions_dict.keys():\n",
    "        item_interactions_dict[k] /= item_frequency[k[0]]\n",
    "\n",
    "    print(\"Generating the item, item dok matrix...\")\n",
    "    item_interactions_dok = dok_matrix((n_items, n_items), dtype=np.float32)\n",
    "\n",
    "    for k, v in item_interactions_dict.items():\n",
    "        item_interactions_dok[k] = v\n",
    "\n",
    "    del item_interactions_dict\n",
    "\n",
    "    print(\"Turning the item, item dok matrix into a csr matrix...\")\n",
    "    item_interactions_csr = item_interactions_dok.tocsr()\n",
    "    print(convert_size(item_interactions_csr.data.nbytes + item_interactions_csr.indptr.nbytes + item_interactions_csr.indices.nbytes))\n",
    "    \n",
    "    del item_interactions_dok\n",
    "\n",
    "    return item_interactions_csr"
   ]
  },
  {
   "cell_type": "code",
   "execution_count": 33,
   "metadata": {},
   "outputs": [],
   "source": [
    "# mapped_item_frequency = {}\n",
    "# for k, v in item_frequency.items():\n",
    "#      mapped_item_frequency[mapping[k]] = v"
   ]
  },
  {
   "cell_type": "code",
   "execution_count": 34,
   "metadata": {},
   "outputs": [
    {
     "name": "stdout",
     "output_type": "stream",
     "text": [
      "Generating the item, item dok matrix...\n",
      "Turning the item, item dok matrix into a csr matrix...\n",
      "580.17 MB\n"
     ]
    }
   ],
   "source": [
    "sparse_item_item_matrix = generate_item_item_interactions(train_data=train_data,\n",
    "                                                          item_key_mapping=mapping, \n",
    "                                                          item_frequency=item_frequency,\n",
    "                                                          n_items=n_items)"
   ]
  },
  {
   "cell_type": "markdown",
   "metadata": {},
   "source": [
    "## Old Evaluation (HitRate@K, NDCG@K)\n",
    "(moved function to recommender.py)"
   ]
  },
  {
   "cell_type": "code",
   "execution_count": null,
   "metadata": {},
   "outputs": [],
   "source": [
    "# Test evaluate function\n",
    "test_transaction = [1, 889, 887, 990, 998]\n",
    "\n",
    "user_id = test_transaction[0]\n",
    "items = test_transaction[1:]\n",
    "test_item = items.pop()\n",
    "\n",
    "print(user_id, items, test_item)\n",
    "\n",
    "def test_evaluate(predicted_items, k=5):\n",
    "    hit_rate_at_k = 0.0\n",
    "    ndcg_at_k = 0.0\n",
    "    if test_item in predicted_items:\n",
    "        # Hit Rate @ k\n",
    "        hit_rate_at_k += 1\n",
    "        # NDCG @ k\n",
    "        index_match = (np.where(test_item == np.array(predicted_items)))[0][0]\n",
    "        # In our case only one item in the retrieved list can be relevant,\n",
    "        # so in particular the ideal ndcg is 1 and ndcg_at_k = 1/log_2(1+j)\n",
    "        # where j is the position of the relevant item in the list.\n",
    "        ndcg_at_k += 1/np.log2(np.arange(2, k+2))[index_match]\n",
    "\n",
    "    print(hit_rate_at_k)\n",
    "    print(ndcg_at_k)\n",
    "    \n",
    "    return hit_rate_at_k, ndcg_at_k\n",
    "    \n",
    "# test item 998 in the third spot\n",
    "predicted_items1 = [889, 887, 998, 881, 882]\n",
    "hr_1, ndcg_1 = test_evaluate(predicted_items1, k=5)\n",
    "assert hr_1 == 1.0 and ndcg_1 == 0.5\n",
    "\n",
    "# test item 998 in first spot\n",
    "predicted_items2 = [998, 887, 995, 881, 882]\n",
    "hr_2, ndcg_2 = test_evaluate(predicted_items2, k=5)\n",
    "assert hr_2 == 1.0 and ndcg_2 == 1.0\n",
    "\n",
    "# test item 998 not in the list\n",
    "predicted_items3 = [889, 887, 880, 881, 882]\n",
    "hr_3, ndcg_3 = test_evaluate(predicted_items3, k=5)\n",
    "assert hr_3 == 0.0 and ndcg_3 == 0.0"
   ]
  },
  {
   "cell_type": "markdown",
   "metadata": {},
   "source": [
    "## Most Popular"
   ]
  },
  {
   "cell_type": "code",
   "execution_count": 35,
   "metadata": {},
   "outputs": [],
   "source": [
    "most_popular_baseline = MostPopularRecommender(item_key_mapping=mapping, \n",
    "                                               item_frequency=item_frequency, \n",
    "                                               user_item_frequency=user_item_frequency)"
   ]
  },
  {
   "cell_type": "code",
   "execution_count": null,
   "metadata": {},
   "outputs": [],
   "source": [
    "# Test Most Popular Baseline\n",
    "k = 10\n",
    "\n",
    "item_frequency_test_list = sorted(item_frequency.items(), key=lambda t: t[1], reverse=True)\n",
    "test_indices = [index for (index, frequency) in item_frequency_test_list[:k]]\n",
    "\n",
    "predicted_indices = most_popular_baseline.predict_items(user_id=None, given_items=None, predict_k=k)\n",
    "\n",
    "print(f\"Test: {test_indices}\")\n",
    "print(f\"Predicted: {predicted_indices}\")\n",
    "\n",
    "assert predicted_indices == test_indices"
   ]
  },
  {
   "cell_type": "code",
   "execution_count": 36,
   "metadata": {},
   "outputs": [
    {
     "name": "stdout",
     "output_type": "stream",
     "text": [
      "206209 transactions to evaluate.\n",
      "Evaluated 195288 transactions.\n",
      "Took 8.662 minutes.\n",
      "AUC:              0.922\n",
      "NDCG:             0.1333\n",
      "Recall at 10:     0.0546\n",
      "Precision at 10:  0.0253\n",
      "206209 transactions to evaluate.\n",
      "Evaluated 195558 transactions.\n",
      "Took 8.505 minutes.\n",
      "AUC:              0.9216\n",
      "NDCG:             0.133\n",
      "Recall at 10:     0.0543\n",
      "Precision at 10:  0.0258\n"
     ]
    }
   ],
   "source": [
    "# Validation Set and Test Set\n",
    "# Within Basket Recommendations\n",
    "val_auc, val_ndcg, val_recall, val_precision = most_popular_baseline.evaluate(validation_data, \n",
    "                                                                              k=10,\n",
    "                                                                              within_basket=True)\n",
    "\n",
    "test_auc, test_ndcg, test_recall, test_precision = most_popular_baseline.evaluate(test_data, \n",
    "                                                                                  k=10,\n",
    "                                                                                  within_basket=True)"
   ]
  },
  {
   "cell_type": "code",
   "execution_count": 37,
   "metadata": {},
   "outputs": [
    {
     "name": "stdout",
     "output_type": "stream",
     "text": [
      "206209 transactions to evaluate.\n",
      "Evaluated 195288 transactions.\n",
      "Took 11.446 minutes.\n",
      "AUC:              0.9281\n",
      "NDCG:             0.145\n",
      "Recall at 10:     0.0706\n",
      "Precision at 10:  0.0742\n",
      "206209 transactions to evaluate.\n",
      "Evaluated 195558 transactions.\n",
      "Took 10.732 minutes.\n",
      "AUC:              0.9276\n",
      "NDCG:             0.1449\n",
      "Recall at 10:     0.0706\n",
      "Precision at 10:  0.0757\n"
     ]
    }
   ],
   "source": [
    "# Next Basket Recommendations\n",
    "val_auc, val_ndcg, val_recall, val_precision = most_popular_baseline.evaluate(validation_data, \n",
    "                                                                              k=10,\n",
    "                                                                              within_basket=False)\n",
    "\n",
    "test_auc, test_ndcg, test_recall, test_precision = most_popular_baseline.evaluate(test_data, \n",
    "                                                                                  k=10,\n",
    "                                                                                  within_basket=False)"
   ]
  },
  {
   "cell_type": "code",
   "execution_count": null,
   "metadata": {},
   "outputs": [],
   "source": [
    "# Most Popular - Within Basket Recommendations\n",
    "# Baseline (Triplet2Vec Paper)\n",
    "# AUC  0.918\n",
    "# NDCG 0.145\n",
    "\n",
    "# My Scores\n",
    "# Validation\n",
    "# AUC:              0.922\n",
    "# NDCG:             0.1333\n",
    "# Recall at 10:     0.0546\n",
    "# Precision at 10:  0.0253\n",
    "\n",
    "# Test\n",
    "# AUC:              0.9216\n",
    "# NDCG:             0.133\n",
    "# Recall at 10:     0.0543\n",
    "# Precision at 10:  0.0258\n",
    "\n",
    "# Most Popular - Next Basket Recommendations\n",
    "# Baseline (Triplet2Vec Paper)\n",
    "# AUC  0.918\n",
    "# NDCG 0.145\n",
    "\n",
    "# My Scores\n",
    "# Validation\n",
    "# AUC:              0.9281\n",
    "# NDCG:             0.145\n",
    "# Recall at 10:     0.0706\n",
    "# Precision at 10:  0.0742\n",
    "\n",
    "# Test\n",
    "# AUC:              0.9276\n",
    "# NDCG:             0.1449\n",
    "# Recall at 10:     0.0706\n",
    "# Precision at 10:  0.0757"
   ]
  },
  {
   "cell_type": "markdown",
   "metadata": {},
   "source": [
    "## Most Popular for User"
   ]
  },
  {
   "cell_type": "code",
   "execution_count": 51,
   "metadata": {},
   "outputs": [],
   "source": [
    "most_popular_for_user_baseline = MostPopularForUserRecommender(item_key_mapping=mapping, \n",
    "                                                               user_item_frequency=user_item_frequency)"
   ]
  },
  {
   "cell_type": "code",
   "execution_count": null,
   "metadata": {
    "jupyter": {
     "source_hidden": true
    }
   },
   "outputs": [],
   "source": [
    "# Test Most Popular Baseline\n",
    "k = 10\n",
    "\n",
    "# test for user with id\n",
    "user_id = list(user_item_frequency.keys())[0]\n",
    "user_item_frequency_test_list = sorted(user_item_frequency[user_id].items(), key=lambda t: t[1], reverse=True)\n",
    "test_indices = [index for (index, frequency) in user_item_frequency_test_list[:k]]\n",
    "\n",
    "predicted_indices = most_popular_for_user_baseline.predict_items(user_id=user_id, given_items=None, predict_k=k)\n",
    "\n",
    "print(f\"Test: {test_indices}\")\n",
    "print(f\"Predicted: {predicted_indices}\")\n",
    "\n",
    "assert predicted_indices == test_indices\n",
    "\n",
    "# test for non-existing user, should return most popular\n",
    "user_id = -1\n",
    "item_frequency_test_list = sorted(item_frequency.items(), key=lambda t: t[1], reverse=True)\n",
    "test_indices = [index for (index, frequency) in item_frequency_test_list[:10]]\n",
    "\n",
    "predicted_indices = most_popular_for_user_baseline.predict_items(user_id=user_id, given_items=None, predict_k=k)\n",
    "\n",
    "print(f\"Test: {test_indices}\")\n",
    "print(f\"Predicted: {predicted_indices}\")\n",
    "\n",
    "assert predicted_indices == test_indices"
   ]
  },
  {
   "cell_type": "code",
   "execution_count": 52,
   "metadata": {},
   "outputs": [
    {
     "name": "stdout",
     "output_type": "stream",
     "text": [
      "206209 transactions to evaluate.\n",
      "Evaluated 195288 transactions.\n",
      "Took 9.066 minutes.\n",
      "AUC:              0.7473\n",
      "NDCG:             0.213\n",
      "Recall at 10:     0.2192\n",
      "Precision at 10:  0.0782\n",
      "206209 transactions to evaluate.\n",
      "Evaluated 195558 transactions.\n",
      "Took 9.071 minutes.\n",
      "AUC:              0.7271\n",
      "NDCG:             0.1987\n",
      "Recall at 10:     0.1978\n",
      "Precision at 10:  0.0731\n"
     ]
    }
   ],
   "source": [
    "# Validation Set and Test Set\n",
    "# Within Basket Recommendations\n",
    "val_auc, val_ndcg, val_recall, val_precision = most_popular_for_user_baseline.evaluate(validation_data,\n",
    "                                                                                       k=10,\n",
    "                                                                                       within_basket=True)\n",
    "\n",
    "test_auc, test_ndcg, test_recall, test_precision = most_popular_for_user_baseline.evaluate(test_data, \n",
    "                                                                                           k=10,\n",
    "                                                                                           within_basket=True)"
   ]
  },
  {
   "cell_type": "code",
   "execution_count": 53,
   "metadata": {},
   "outputs": [
    {
     "name": "stdout",
     "output_type": "stream",
     "text": [
      "206209 transactions to evaluate.\n",
      "Evaluated 195288 transactions.\n",
      "Took 10.883 minutes.\n",
      "AUC:              0.79\n",
      "NDCG:             0.3\n",
      "Recall at 10:     0.3082\n",
      "Precision at 10:  0.2756\n",
      "206209 transactions to evaluate.\n",
      "Evaluated 195558 transactions.\n",
      "Took 10.587 minutes.\n",
      "AUC:              0.769\n",
      "NDCG:             0.2791\n",
      "Recall at 10:     0.283\n",
      "Precision at 10:  0.2585\n"
     ]
    }
   ],
   "source": [
    "# Next Basket Recommendations\n",
    "val_auc, val_ndcg, val_recall, val_precisiong = most_popular_for_user_baseline.evaluate(validation_data,\n",
    "                                                                                        k=10,\n",
    "                                                                                        within_basket=False)\n",
    "\n",
    "test_auc, test_ndcg, test_recall, test_precision = most_popular_for_user_baseline.evaluate(test_data, \n",
    "                                                                                           k=10,\n",
    "                                                                                           within_basket=False)"
   ]
  },
  {
   "cell_type": "code",
   "execution_count": null,
   "metadata": {},
   "outputs": [],
   "source": [
    "# Most Popular for User - Within Basket Recommendations\n",
    "# Baseline (Triplet2Vec Paper)\n",
    "# AUC  0.773\n",
    "# NDCG 0.272 \n",
    "\n",
    "# My Scores\n",
    "# Validation\n",
    "# AUC:              0.7473\n",
    "# NDCG:             0.213\n",
    "# Recall at 10:     0.2192\n",
    "# Precision at 10:  0.0782\n",
    "\n",
    "# Test\n",
    "# AUC:              0.7271\n",
    "# NDCG:             0.1987\n",
    "# Recall at 10:     0.1978\n",
    "# Precision at 10:  0.0731\n",
    "\n",
    "# Most Popular for User - Next Basket Recommendations\n",
    "# Baseline (Triplet2Vec Paper)\n",
    "# AUC  0.773\n",
    "# NDCG 0.273 \n",
    "\n",
    "# My Scores\n",
    "# Validation\n",
    "# AUC:              0.79\n",
    "# NDCG:             0.3\n",
    "# Recall at 10:     0.3082\n",
    "# Precision at 10:  0.2756\n",
    "\n",
    "# Test\n",
    "# AUC:              0.769\n",
    "# NDCG:             0.2791\n",
    "# Recall at 10:     0.283\n",
    "# Precision at 10:  0.2585"
   ]
  },
  {
   "cell_type": "markdown",
   "metadata": {},
   "source": [
    "## Co-Count "
   ]
  },
  {
   "cell_type": "code",
   "execution_count": 54,
   "metadata": {},
   "outputs": [],
   "source": [
    "item_co_count_baseline = ItemCoCountRecommender(item_key_mapping=mapping, \n",
    "                                                item_co_count_matrix=sparse_item_item_matrix, \n",
    "                                                user_item_frequency=user_item_frequency)"
   ]
  },
  {
   "cell_type": "code",
   "execution_count": null,
   "metadata": {
    "jupyter": {
     "source_hidden": true
    }
   },
   "outputs": [],
   "source": [
    "# Test co-count Baseline\n",
    "k = 10\n",
    "item_ids = ['product_30252']\n",
    "\n",
    "co_count_for_item = np.asarray(sparse_item_item_matrix.getrow(product_mapping_dict[item_ids[0]]).todense())[0]\n",
    "candidate_indices = np.argsort(co_count_for_item)[::-1][:k]\n",
    "test_indices = [reverse_product_mapping_dict[candidate_index] for candidate_index in candidate_indices]\n",
    "\n",
    "predicted_indices = item_co_count_baseline.predict_items(user_id=None, given_items=item_ids)\n",
    "\n",
    "print(f\"Test: {test_indices}\")\n",
    "print(f\"Predicted: {predicted_indices}\")\n",
    "\n",
    "assert predicted_indices == test_indices"
   ]
  },
  {
   "cell_type": "code",
   "execution_count": 55,
   "metadata": {},
   "outputs": [
    {
     "name": "stdout",
     "output_type": "stream",
     "text": [
      "206209 transactions to evaluate.\n",
      "Evaluated 195288 transactions.\n",
      "Took 11.835 minutes.\n",
      "AUC:              0.8932\n",
      "NDCG:             0.1533\n",
      "Recall at 10:     0.0798\n",
      "Precision at 10:  0.0332\n",
      "206209 transactions to evaluate.\n",
      "Evaluated 195558 transactions.\n",
      "Took 11.936 minutes.\n",
      "AUC:              0.8917\n",
      "NDCG:             0.1527\n",
      "Recall at 10:     0.0791\n",
      "Precision at 10:  0.0335\n"
     ]
    }
   ],
   "source": [
    "# Validation Set and Test Set\n",
    "# Within Basket Recommendations\n",
    "val_auc, val_ndcg, val_recall, val_precision = item_co_count_baseline.evaluate(validation_data, \n",
    "                                                                               k=10,\n",
    "                                                                               within_basket=True)\n",
    "\n",
    "test_auc, test_ndcg, test_recall, test_precision = item_co_count_baseline.evaluate(test_data, \n",
    "                                                                                   k=10,\n",
    "                                                                                   within_basket=True)"
   ]
  },
  {
   "cell_type": "code",
   "execution_count": 56,
   "metadata": {},
   "outputs": [
    {
     "name": "stdout",
     "output_type": "stream",
     "text": [
      "206209 transactions to evaluate.\n",
      "Evaluated 195288 transactions.\n",
      "Took 49.457 minutes.\n",
      "AUC:              0.9575\n",
      "NDCG:             0.1678\n",
      "Recall at 10:     0.0896\n",
      "Precision at 10:  0.0891\n",
      "206209 transactions to evaluate.\n",
      "Evaluated 195558 transactions.\n",
      "Took 48.384 minutes.\n",
      "AUC:              0.9553\n",
      "NDCG:             0.1671\n",
      "Recall at 10:     0.0893\n",
      "Precision at 10:  0.0904\n"
     ]
    }
   ],
   "source": [
    "# Next Basket Recommendations\n",
    "val_auc, val_ndcg, val_recall, val_precision = item_co_count_baseline.evaluate(validation_data, \n",
    "                                                                               k=10,\n",
    "                                                                               within_basket=False)\n",
    "\n",
    "test_auc, test_ndcg, test_recall, test_precision = item_co_count_baseline.evaluate(test_data, \n",
    "                                                                                   k=10,\n",
    "                                                                                   within_basket=False)"
   ]
  },
  {
   "cell_type": "code",
   "execution_count": null,
   "metadata": {},
   "outputs": [],
   "source": [
    "# Item Co-count - Within Basket Recommendations\n",
    "# My Scores\n",
    "# Validation\n",
    "# AUC:              0.8932\n",
    "# NDCG:             0.1533\n",
    "# Recall at 10:     0.0798\n",
    "# Precision at 10:  0.0332\n",
    "\n",
    "# Test\n",
    "# AUC:              0.8917\n",
    "# NDCG:             0.1527\n",
    "# Recall at 10:     0.0791\n",
    "# Precision at 10:  0.0335\n",
    "\n",
    "# Item Co-count - Next Basket Recommendations\n",
    "# My Scores\n",
    "# Validation\n",
    "# AUC:              0.9575\n",
    "# NDCG:             0.1678\n",
    "# Recall at 10:     0.0896\n",
    "# Precision at 10:  0.0891\n",
    "\n",
    "# Test\n",
    "# AUC:              0.9553\n",
    "# NDCG:             0.1671\n",
    "# Recall at 10:     0.0893\n",
    "# Precision at 10:  0.0904"
   ]
  },
  {
   "cell_type": "code",
   "execution_count": null,
   "metadata": {},
   "outputs": [],
   "source": []
  }
 ],
 "metadata": {
  "kernelspec": {
   "display_name": "instacart2vec",
   "language": "python",
   "name": "instacart2vec"
  },
  "language_info": {
   "codemirror_mode": {
    "name": "ipython",
    "version": 3
   },
   "file_extension": ".py",
   "mimetype": "text/x-python",
   "name": "python",
   "nbconvert_exporter": "python",
   "pygments_lexer": "ipython3",
   "version": "3.7.7"
  }
 },
 "nbformat": 4,
 "nbformat_minor": 4
}
